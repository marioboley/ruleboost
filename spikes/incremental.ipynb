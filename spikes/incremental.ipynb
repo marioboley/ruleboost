{
 "cells": [
  {
   "cell_type": "markdown",
   "id": "74604324",
   "metadata": {},
   "source": [
    "# Incremental Gramian Computation\n",
    "\n",
    "The goal of this study is to investigate the performance effect of\n",
    "\n",
    "1. Pre-allocating space for $Q$-matrix and Gramian $G$\n",
    "2. Incrementally updating the Gramian\n",
    "3. Incrementally solving for the optimal coefficient vector\n",
    "\n",
    "in isolation. This means outside the gradient boosting framework where the substantial cost of base learner fitting obfuscates the effect. \n",
    "\n",
    "## Test Case\n",
    "\n",
    "As test case, we use a simple regression setting with random true coefficient vector."
   ]
  },
  {
   "cell_type": "code",
   "execution_count": 85,
   "id": "b6e2522e",
   "metadata": {},
   "outputs": [
    {
     "data": {
      "text/plain": [
       "np.float64(0.0980956569114943)"
      ]
     },
     "execution_count": 85,
     "metadata": {},
     "output_type": "execute_result"
    }
   ],
   "source": [
    "import numpy as np\n",
    "\n",
    "RNG = np.random.default_rng(seed = 0)\n",
    "p = 400\n",
    "n = 500\n",
    "beta_true = RNG.normal(size=p)\n",
    "sigma_noise = 0.1\n",
    "mean_x = np.zeros(p)\n",
    "cov_x = np.eye(p)\n",
    "\n",
    "x = RNG.multivariate_normal(mean_x, cov_x, size=n)\n",
    "y = x.dot(beta_true) + RNG.normal(0, sigma_noise, size=n)\n",
    "\n",
    "((y - x.dot(beta_true))**2).mean()**0.5"
   ]
  },
  {
   "cell_type": "code",
   "execution_count": 86,
   "id": "42230995",
   "metadata": {},
   "outputs": [
    {
     "data": {
      "text/plain": [
       "array([ 1.13678756e-01, -1.16976273e-01,  5.90998512e-01,  7.16526173e-02,\n",
       "       -5.60942590e-01,  4.35607072e-01,  1.34344131e+00,  9.41844608e-01,\n",
       "       -6.80847076e-01, -1.21754538e+00, -5.68413359e-01,  2.48206826e-02,\n",
       "       -2.33288967e+00, -2.23131795e-01, -1.18773306e+00, -8.09214921e-01,\n",
       "       -4.78177414e-01, -3.05822217e-01,  4.10753219e-01,  1.07202893e+00,\n",
       "       -7.96107030e-02,  1.26761115e+00, -6.10296292e-01,  3.85957251e-01,\n",
       "        8.87207436e-01,  8.45539572e-02, -6.60536647e-01, -9.18526028e-01,\n",
       "       -5.83762481e-01,  1.53158267e-01, -1.06282080e+00, -2.12420811e-01,\n",
       "       -2.20748129e-01,  5.77478329e-01,  2.54246249e-01,  3.77525978e-01,\n",
       "       -6.47405954e-01, -1.17203429e-01,  8.32826184e-01,  1.49493775e+00,\n",
       "       -1.27329841e+00,  1.54224010e+00,  1.36053879e+00,  7.87691000e-01,\n",
       "        2.56221638e-01, -3.38958551e-01,  1.48181271e+00,  1.95161978e+00,\n",
       "        1.76313498e+00,  1.37478515e+00,  4.07455409e-01, -1.27796184e+00,\n",
       "       -1.10633319e-02,  6.74784956e-01, -1.23132301e+00,  4.47744029e-01,\n",
       "        4.25383802e-01,  6.83380443e-01, -1.27170591e+00, -6.06046388e-01,\n",
       "       -4.43822570e-01, -1.20589872e+00,  1.79947160e+00, -5.48678401e-01,\n",
       "        3.59412348e-01, -2.64242568e-01,  1.61417434e+00,  1.31226368e+00,\n",
       "        6.06575539e-01, -2.25509182e+00,  1.21880178e-01,  6.90268017e-01,\n",
       "        9.70568957e-01, -5.99928185e-01,  1.80193528e+00, -1.25060334e+00,\n",
       "       -6.87215863e-01,  9.76542402e-01,  8.01076908e-02,  1.99489723e+00,\n",
       "        1.66564935e-01, -5.53153959e-01, -3.86314401e-01, -1.12030132e+00,\n",
       "       -1.26235827e+00,  5.85265145e-01,  6.51523444e-01,  1.32808482e+00,\n",
       "       -7.42013782e-01,  1.69620979e+00, -2.29867938e-01,  1.53337722e+00,\n",
       "       -4.47888700e-01, -8.21900183e-01,  1.94947619e-01,  1.03817491e+00,\n",
       "        2.77517652e-01, -6.42646057e-01, -1.36676530e+00, -1.40485683e+00,\n",
       "        4.99566824e-01,  9.33486707e-01, -1.30473593e-01, -1.08249508e+00,\n",
       "        8.91714088e-01, -1.29259618e+00, -7.47810259e-01,  6.36907202e-01,\n",
       "       -2.21790806e+00,  3.40052359e-01, -5.59218472e-01,  7.90633583e-02,\n",
       "       -1.54973591e-01,  2.31961970e-01,  6.79081041e-01, -7.42709328e-01,\n",
       "        1.36531912e+00,  7.39482335e-01,  9.18198274e-01,  1.18822850e+00,\n",
       "        8.57028788e-01,  8.47133408e-01,  6.83171289e-02, -1.47326331e+00,\n",
       "       -1.46391497e-01, -7.59945592e-01, -1.44878161e+00,  2.78559283e-01,\n",
       "       -5.69185874e-01, -1.05595818e+00, -1.09896115e+00,  2.75232916e-01,\n",
       "        3.14989567e-01,  1.31911963e+00,  7.98210454e-03,  1.02635576e+00,\n",
       "        1.46168364e+00,  1.14816266e+00, -2.39377530e+00,  1.27799523e+00,\n",
       "        2.88778612e-01,  3.54056149e-01,  4.15515995e-01,  4.50401856e-01,\n",
       "        2.27681497e-01, -4.28919842e-01, -1.89780400e+00, -7.25752219e-02,\n",
       "       -8.01684685e-01,  1.11804559e+00, -2.83475215e-01,  7.92776699e-02,\n",
       "       -7.40064108e-01, -4.96403411e-01,  1.40405217e-03, -1.45961153e+00,\n",
       "        3.31039152e-01, -9.78304445e-02, -1.21265661e+00, -2.39266730e+00,\n",
       "        4.87067572e-01, -3.18454279e-01, -5.63977800e-01, -3.11019645e-01,\n",
       "        1.83577101e+00,  1.29320977e-02,  9.48879246e-02, -1.48884304e+00,\n",
       "        1.68442735e+00,  1.00385355e+00,  1.06084597e+00, -2.08966127e-02,\n",
       "        9.58829581e-01,  2.86402356e-01,  6.75177174e-01, -1.99986089e-01,\n",
       "       -1.44406690e+00,  1.07281557e+00, -1.89573743e+00, -1.87835032e-01,\n",
       "       -1.60667220e-01, -1.04222817e+00,  6.38226013e-01, -1.68849149e-01,\n",
       "       -5.21713133e-01,  5.55494581e-01, -5.17207348e-01,  1.39520672e+00,\n",
       "        3.56534015e-01, -4.47361355e-01, -1.89814143e+00, -1.34914645e+00,\n",
       "        1.09012811e+00, -5.32231125e-02, -2.85510316e-01,  1.60742280e+00,\n",
       "       -1.27355282e+00, -6.55580433e-01, -5.16974734e-01,  5.46159914e-01,\n",
       "       -6.08423712e-01, -6.11587160e-01, -1.62518415e+00,  8.26555753e-01,\n",
       "        7.78555587e-01, -5.09221579e-01,  1.16333463e-01, -1.27847215e+00,\n",
       "       -4.48269726e-01,  1.38008551e+00,  1.03250435e-01,  2.29864956e+00,\n",
       "       -8.22764552e-01,  6.34434089e-01, -1.96061826e-01,  6.13838177e-01,\n",
       "       -3.46573683e-02, -5.90584756e-01, -8.45616461e-01,  3.05620102e+00,\n",
       "       -2.53079156e-02, -2.06967548e+00, -6.81063119e-01,  6.46880404e-01,\n",
       "       -4.69780389e-01,  1.27352810e+00,  9.59046362e-01, -1.36862504e-01,\n",
       "       -5.60679293e-01, -1.02791264e+00, -6.65385650e-01, -1.49395330e+00,\n",
       "        1.25365348e+00,  1.60067087e+00, -1.27933799e+00, -1.23046750e+00,\n",
       "       -1.82645947e+00, -9.60926083e-01, -3.12768537e+00, -1.08641528e+00,\n",
       "        1.35276404e+00, -2.33616395e-01,  8.71337745e-01, -4.56664242e-01,\n",
       "        1.75674671e+00,  1.77018402e-01, -3.77537831e-01,  2.50564566e+00,\n",
       "       -2.78804234e-01, -1.19768675e+00,  2.31151757e-01, -1.40182187e-01,\n",
       "        1.08335073e+00, -9.31707622e-01,  8.32638551e-01,  8.57926450e-01,\n",
       "       -6.45339001e-01,  1.26923965e-01, -7.88073494e-01,  2.32788688e+00,\n",
       "       -6.73609856e-01, -4.43249701e-01, -1.04188070e+00, -4.12970117e-01,\n",
       "        4.49946058e-03,  7.23645668e-01, -6.73003011e-01, -1.51909263e-01,\n",
       "       -1.39006735e+00, -8.32497722e-01,  2.78438443e+00,  1.01515354e+00,\n",
       "       -7.68286231e-01, -1.34804836e+00, -8.66971341e-01, -6.09583403e-02,\n",
       "        6.02936803e-03, -6.91894416e-01, -1.30640544e+00,  1.37179195e+00,\n",
       "        4.59876510e-01, -4.05952964e-01, -1.84014182e-01, -5.65548934e-01,\n",
       "       -2.86761021e+00,  3.96140608e-02, -1.04298060e+00, -1.02340076e+00,\n",
       "       -7.51403825e-01,  7.49845776e-01, -1.19323900e+00, -1.47697554e+00,\n",
       "        6.33317858e-01,  7.70586781e-01, -9.45708610e-01,  6.25411529e-01,\n",
       "       -2.85903542e-01,  3.18983163e-01, -1.25497870e+00,  8.14652453e-01,\n",
       "        1.17758186e+00,  6.69084660e-01,  5.51555567e-01, -3.73529454e+00,\n",
       "        2.48205243e-01, -5.56493890e-02, -1.97088658e-01, -6.55358214e-01,\n",
       "       -2.72268704e-03,  4.12949044e-01, -2.60864153e-01, -5.01678936e-01,\n",
       "        1.25537135e+00, -1.12731093e+00,  1.11178144e+00,  1.60097494e-01,\n",
       "       -8.03986751e-01, -3.02498297e-01, -9.52868090e-01,  6.93168210e-01,\n",
       "        2.83480482e-01, -5.70219775e-01, -1.10626970e+00,  2.89911914e-01,\n",
       "        1.04928653e+00, -7.61676602e-02,  3.70412471e-01, -4.23944014e-01,\n",
       "        1.22301671e-01, -2.70140872e-01,  3.63880706e-01, -1.48799818e+00,\n",
       "        6.24787284e-01, -2.50350459e-01,  2.89285654e-01, -3.43678872e-01,\n",
       "        3.17437338e-01, -1.06748539e+00,  1.20828317e+00, -1.73878294e+00,\n",
       "       -1.00457853e+00,  2.50506036e-01,  1.36688282e+00,  2.51432326e-01,\n",
       "       -2.35637410e-01, -1.47281845e+00, -1.69229172e-01, -3.51981611e-02,\n",
       "        1.72486675e+00,  6.02191339e-01, -1.58101833e+00,  2.00884319e+00,\n",
       "       -3.68683185e-01, -9.78856996e-01,  1.46596077e+00, -6.96783864e-02,\n",
       "       -3.39777807e-01,  3.10966804e-01,  8.50561107e-01,  1.02962529e+00,\n",
       "       -1.34515129e+00,  1.95599961e+00,  1.00812589e+00, -4.04462858e-01,\n",
       "       -8.82345258e-01, -9.30529129e-01,  1.46365658e-01, -5.97663587e-01,\n",
       "       -8.42259509e-01,  8.35583273e-01,  3.27274845e-01, -4.34239144e-01,\n",
       "        6.89194576e-01,  1.36312101e+00, -1.10694088e+00, -5.70753674e-01,\n",
       "        9.52143850e-01,  6.75620161e-01,  2.04785808e-01,  1.16678598e+00,\n",
       "       -1.08548861e+00, -1.49800139e+00, -8.05093250e-01,  1.19803562e-01,\n",
       "       -7.78354536e-01, -5.83562234e-01, -9.34889321e-01, -5.89338854e-01,\n",
       "       -9.99915704e-01,  3.85400202e-01,  7.39178436e-01, -5.77490631e-01,\n",
       "       -1.65154298e-01, -6.09528201e-01,  6.31075193e-01,  9.67133220e-02,\n",
       "        1.58070226e+00, -1.11700720e+00,  3.47526354e-01])"
      ]
     },
     "execution_count": 86,
     "metadata": {},
     "output_type": "execute_result"
    }
   ],
   "source": [
    "def fit_naive(x, y):\n",
    "    n, p = x.shape\n",
    "    for j in range(p):\n",
    "        gramian = x[:, :j].T.dot(x[:, :j])\n",
    "        beta = np.linalg.solve(gramian, x[:, :j].T.dot(y))\n",
    "    return beta\n",
    "\n",
    "fit_naive(x, y)"
   ]
  },
  {
   "cell_type": "code",
   "execution_count": 87,
   "id": "1975938f",
   "metadata": {},
   "outputs": [
    {
     "data": {
      "text/plain": [
       "np.float64(7.365294273696693e-05)"
      ]
     },
     "execution_count": 87,
     "metadata": {},
     "output_type": "execute_result"
    }
   ],
   "source": [
    "def fit_naive2(x, y):\n",
    "    _, p = x.shape\n",
    "    for j in range(p+1):\n",
    "        _x = x[:, :j]\n",
    "        g = _x.T.dot(_x)\n",
    "        beta = np.linalg.solve(g, _x.T.dot(y))\n",
    "    return beta\n",
    "\n",
    "((beta_true - fit_naive2(x, y))**2).mean()"
   ]
  },
  {
   "cell_type": "code",
   "execution_count": 88,
   "id": "e86d1934",
   "metadata": {},
   "outputs": [
    {
     "data": {
      "text/plain": [
       "np.float64(7.365294273697835e-05)"
      ]
     },
     "execution_count": 88,
     "metadata": {},
     "output_type": "execute_result"
    }
   ],
   "source": [
    "def fit_incremental(x, y):\n",
    "    _, p = x.shape\n",
    "    g =  np.zeros((p, p))\n",
    "    for j in range(0, p):\n",
    "        g[j, :j] = x[:, :j].T.dot(x[:, j])\n",
    "        g[:j, j] = g[j, :j]\n",
    "        g[j, j] = x[:, j].dot(x[:, j])\n",
    "        beta = np.linalg.solve(g[:j+1, :j+1], x[:, :j+1].T.dot(y))\n",
    "    return beta\n",
    "\n",
    "np.mean((beta_true - fit_incremental(x, y))**2)"
   ]
  },
  {
   "cell_type": "code",
   "execution_count": 89,
   "id": "5eb4678b",
   "metadata": {},
   "outputs": [
    {
     "name": "stdout",
     "output_type": "stream",
     "text": [
      "242 ms ± 5.21 ms per loop (mean ± std. dev. of 7 runs, 1 loop each)\n"
     ]
    }
   ],
   "source": [
    "%timeit fit_naive(x, y)"
   ]
  },
  {
   "cell_type": "code",
   "execution_count": 90,
   "id": "3626c5fa",
   "metadata": {},
   "outputs": [
    {
     "name": "stdout",
     "output_type": "stream",
     "text": [
      "242 ms ± 8.95 ms per loop (mean ± std. dev. of 7 runs, 1 loop each)\n"
     ]
    }
   ],
   "source": [
    "%timeit fit_naive2(x, y)"
   ]
  },
  {
   "cell_type": "code",
   "execution_count": 91,
   "id": "ebf9173a",
   "metadata": {},
   "outputs": [
    {
     "name": "stdout",
     "output_type": "stream",
     "text": [
      "135 ms ± 3.02 ms per loop (mean ± std. dev. of 7 runs, 10 loops each)\n"
     ]
    }
   ],
   "source": [
    "%timeit fit_incremental(x, y)"
   ]
  },
  {
   "cell_type": "code",
   "execution_count": 94,
   "id": "f25e70b1",
   "metadata": {},
   "outputs": [
    {
     "data": {
      "text/plain": [
       "np.float64(7.365294273698925e-05)"
      ]
     },
     "execution_count": 94,
     "metadata": {},
     "output_type": "execute_result"
    }
   ],
   "source": [
    "from numba import njit\n",
    "\n",
    "@njit\n",
    "def numba_fit_incremental(x, y):\n",
    "    _, p = x.shape\n",
    "    g =  np.zeros((p, p))\n",
    "    for j in range(0, p):\n",
    "        g[j, :j] = x[:, :j].T.dot(x[:, j])\n",
    "        g[:j, j] = g[j, :j]\n",
    "        g[j, j] = x[:, j].dot(x[:, j])\n",
    "        # h = g[:j+1, :j+1].copy()\n",
    "        # beta = np.linalg.solve(h, x[:, :j+1].T.dot(y))\n",
    "        beta = np.linalg.solve(g[:j+1, :j+1], x[:, :j+1].T.dot(y))\n",
    "    return beta\n",
    "\n",
    "x_ = np.asfortranarray(x)\n",
    "np.mean((beta_true - numba_fit_incremental(x_, y))**2)"
   ]
  },
  {
   "cell_type": "code",
   "execution_count": 95,
   "id": "f4cd7019",
   "metadata": {},
   "outputs": [
    {
     "name": "stdout",
     "output_type": "stream",
     "text": [
      "149 ms ± 9.2 ms per loop (mean ± std. dev. of 7 runs, 10 loops each)\n"
     ]
    }
   ],
   "source": [
    "# x_ = np.asfortranarray(x)\n",
    "%timeit numba_fit_incremental(x_, y)"
   ]
  },
  {
   "cell_type": "code",
   "execution_count": 96,
   "id": "4275c69c",
   "metadata": {},
   "outputs": [
    {
     "data": {
      "text/plain": [
       "np.float64(7.365294273696196e-05)"
      ]
     },
     "execution_count": 96,
     "metadata": {},
     "output_type": "execute_result"
    }
   ],
   "source": [
    "\n",
    "@njit\n",
    "def cholesky_solve_top_left(g, b, L, k):\n",
    "    # Compute Cholesky: g[:k, :k] = L @ L.T\n",
    "    for i in range(k):\n",
    "        for j in range(i + 1):\n",
    "            s = g[i, j]\n",
    "            for l in range(j):\n",
    "                s -= L[i, l] * L[j, l]\n",
    "            if i == j:\n",
    "                L[i, j] = np.sqrt(s)\n",
    "            else:\n",
    "                L[i, j] = s / L[j, j]\n",
    "\n",
    "    # Solve L y = b[:k]\n",
    "    y = np.empty(k)\n",
    "    for i in range(k):\n",
    "        s = b[i]\n",
    "        for j in range(i):\n",
    "            s -= L[i, j] * y[j]\n",
    "        y[i] = s / L[i, i]\n",
    "\n",
    "    # Solve L.T x = y\n",
    "    x = np.empty(k)\n",
    "    for i in range(k - 1, -1, -1):\n",
    "        s = y[i]\n",
    "        for j in range(i + 1, k):\n",
    "            s -= L[j, i] * x[j]\n",
    "        x[i] = s / L[i, i]\n",
    "\n",
    "    return x\n",
    "\n",
    "@njit\n",
    "def numba_fit_incremental2(x, y):\n",
    "    _, p = x.shape\n",
    "    g =  np.zeros((p, p))\n",
    "    l = np.zeros((p, p))\n",
    "    b = np.zeros(p)\n",
    "    for j in range(0, p):\n",
    "        g[j, :j] = x[:, :j].T.dot(x[:, j])\n",
    "        g[:j, j] = g[j, :j]\n",
    "        g[j, j] = x[:, j].dot(x[:, j])\n",
    "\n",
    "        for i in range(j+1):\n",
    "            b[i] = x[:, i] @ y\n",
    "\n",
    "        beta = cholesky_solve_top_left(g, b, l, j+1)\n",
    "    return beta\n",
    "\n",
    "np.mean((beta_true - numba_fit_incremental2(x_, y))**2)"
   ]
  },
  {
   "cell_type": "code",
   "execution_count": 97,
   "id": "fd29b2b4",
   "metadata": {},
   "outputs": [
    {
     "name": "stdout",
     "output_type": "stream",
     "text": [
      "457 ms ± 1.23 ms per loop (mean ± std. dev. of 7 runs, 1 loop each)\n"
     ]
    }
   ],
   "source": [
    "%timeit numba_fit_incremental2(x_, y)"
   ]
  },
  {
   "cell_type": "code",
   "execution_count": 104,
   "id": "8a2bd668",
   "metadata": {},
   "outputs": [
    {
     "data": {
      "text/plain": [
       "np.float64(7.365294273695162e-05)"
      ]
     },
     "execution_count": 104,
     "metadata": {},
     "output_type": "execute_result"
    }
   ],
   "source": [
    "@njit\n",
    "def cholesky_solve_top_left2(g, b, l, j):\n",
    "    # Update only row j-1 in l\n",
    "    row = j - 1\n",
    "    for k in range(row):\n",
    "        s = 0.0\n",
    "        for m in range(k):\n",
    "            s += l[row, m] * l[k, m]\n",
    "        l[row, k] = (g[row, k] - s) / l[k, k]\n",
    "    s = 0.0\n",
    "    for m in range(row):\n",
    "        s += l[row, m] ** 2\n",
    "    l[row, row] = np.sqrt(g[row, row] - s)\n",
    "\n",
    "    # Solve L z = b[:j]\n",
    "    z = np.empty(j)\n",
    "    for i in range(j):\n",
    "        s = 0.0\n",
    "        for k in range(i):\n",
    "            s += l[i, k] * z[k]\n",
    "        z[i] = (b[i] - s) / l[i, i]\n",
    "\n",
    "    # Solve L.T beta = z\n",
    "    beta = np.empty(j)\n",
    "    for i in range(j - 1, -1, -1):\n",
    "        s = 0.0\n",
    "        for k in range(i + 1, j):\n",
    "            s += l[k, i] * beta[k]\n",
    "        beta[i] = (z[i] - s) / l[i, i]\n",
    "\n",
    "    return beta\n",
    "\n",
    "@njit\n",
    "def numba_fit_incremental3(x, y):\n",
    "    _, p = x.shape\n",
    "    g =  np.zeros((p, p))\n",
    "    l = np.zeros((p, p))\n",
    "    b = np.zeros(p)\n",
    "    for j in range(0, p):\n",
    "        g[j, :j] = x[:, :j].T.dot(x[:, j])\n",
    "        g[:j, j] = g[j, :j]\n",
    "        g[j, j] = x[:, j].dot(x[:, j])\n",
    "\n",
    "        for i in range(j+1):\n",
    "            b[i] = x[:, i] @ y\n",
    "\n",
    "        beta = cholesky_solve_top_left2(g, b, l, j+1)\n",
    "    return beta\n",
    "\n",
    "np.mean((beta_true - numba_fit_incremental3(x_, y))**2)"
   ]
  },
  {
   "cell_type": "code",
   "execution_count": 103,
   "id": "7d5d8dc3",
   "metadata": {},
   "outputs": [
    {
     "name": "stdout",
     "output_type": "stream",
     "text": [
      "35.8 ms ± 200 μs per loop (mean ± std. dev. of 7 runs, 10 loops each)\n"
     ]
    }
   ],
   "source": [
    "%timeit numba_fit_incremental3(x_, y)"
   ]
  }
 ],
 "metadata": {
  "kernelspec": {
   "display_name": ".venv",
   "language": "python",
   "name": "python3"
  },
  "language_info": {
   "codemirror_mode": {
    "name": "ipython",
    "version": 3
   },
   "file_extension": ".py",
   "mimetype": "text/x-python",
   "name": "python",
   "nbconvert_exporter": "python",
   "pygments_lexer": "ipython3",
   "version": "3.13.3"
  }
 },
 "nbformat": 4,
 "nbformat_minor": 5
}
