{
 "cells": [
  {
   "cell_type": "markdown",
   "id": "ea5a1b5a",
   "metadata": {},
   "source": [
    "# Basic Classifier Implementation\n",
    "> **Created** by Fan Yang on 2025-06-04  \n",
    "> **Edited** by Mario Boley on 2025-06-08\n",
    "\n",
    "The goal of this study is to provide a basic rule classifier implementation compatible with the `scikit-learn` using the early `optikon` interface.\n",
    "\n",
    "## Example Data"
   ]
  },
  {
   "cell_type": "code",
   "execution_count": 26,
   "id": "fa974d88",
   "metadata": {},
   "outputs": [
    {
     "name": "stdout",
     "output_type": "stream",
     "text": [
      "(100, 2) (100,)\n"
     ]
    },
    {
     "data": {
      "image/png": "[encoded data removed]",
      "text/plain": [
       "<Figure size 640x480 with 1 Axes>"
      ]
     },
     "metadata": {},
     "output_type": "display_data"
    }
   ],
   "source": [
    "import numpy as np\n",
    "from scipy.special import expit\n",
    "from matplotlib import pyplot as plt\n",
    "\n",
    "RNG = np.random.default_rng(seed=0)\n",
    "x = RNG.multivariate_normal([0, 0], 2*np.eye(2), size=100)\n",
    "y = 2*RNG.binomial(1, expit(10*x[:, 0]*x[:, 1])) - 1 # RNG.choice([-1,1],size=100)\n",
    "print(x.shape, y.shape)\n",
    "\n",
    "plt.scatter(x[y>0, 0], x[y>0, 1], marker='o', fc='None', ec='black', label='$y=1$')\n",
    "plt.scatter(x[y<=0, 0], x[y<=0, 1], marker='s', fc='None', ec='black', label='$y=-1$')\n",
    "plt.legend()\n",
    "plt.show()"
   ]
  },
  {
   "cell_type": "code",
   "execution_count": 29,
   "id": "131b42c5",
   "metadata": {},
   "outputs": [
    {
     "name": "stdout",
     "output_type": "stream",
     "text": [
      "[[ 0.15096096 -0.06199931]]\n"
     ]
    },
    {
     "data": {
      "text/plain": [
       "True"
      ]
     },
     "execution_count": 29,
     "metadata": {},
     "output_type": "execute_result"
    }
   ],
   "source": [
    "from sklearn.linear_model import LogisticRegression\n",
    "\n",
    "linear = LogisticRegression().fit(x, y)\n",
    "print(linear.coef_)\n",
    "np.array_equal(linear.predict(x), 2*(linear.predict_proba(x)[:, 1] >= 0.5)-1)"
   ]
  },
  {
   "cell_type": "code",
   "execution_count": 30,
   "id": "ba9914f2",
   "metadata": {},
   "outputs": [
    {
     "name": "stdout",
     "output_type": "stream",
     "text": [
      "x1 >= 0.307 & x2 >= 0.093\n"
     ]
    },
    {
     "data": {
      "text/plain": [
       "array([ 1,  3,  9, 10, 12, 16, 17, 19, 21, 23, 24, 26, 28, 33, 35, 39, 43,\n",
       "       47, 50, 56, 58, 59, 60, 66, 67, 68, 70, 71, 84, 86])"
      ]
     },
     "execution_count": 30,
     "metadata": {},
     "output_type": "execute_result"
    }
   ],
   "source": [
    "from optikon import max_weighted_support, equal_width_propositionalization\n",
    "\n",
    "props = equal_width_propositionalization(x)\n",
    "key, _, _ ,_ = max_weighted_support(x, y, props, max_depth=5)\n",
    "print(props.str_from_conj(key))\n",
    "props[key].support_all(x)"
   ]
  },
  {
   "cell_type": "markdown",
   "id": "6d23b1fe",
   "metadata": {},
   "source": [
    "## Integration into a Classifier"
   ]
  },
  {
   "cell_type": "markdown",
   "id": "e08c2536",
   "metadata": {},
   "source": [
    "This is the basic classifier interface. Current limitations\n",
    "\n",
    "- No robust treatment of negative label convention and saving of class codes. For comparison `scikit-learn` uses `sklearn.utils.multiclass.unique_labels` to store labels provided during fitting (in order) in `self.classes_`\n",
    "\n",
    "- No `predict_proba`\n",
    "\n",
    "- Should probably use `BaseEstimator` and `ClassifierMixin` for defined behaviour and lean code base\n",
    "\n",
    "- No background (intercept) rule (but this is not Classifier specific and should be tackled later)"
   ]
  },
  {
   "cell_type": "code",
   "execution_count": 33,
   "id": "3aa1be87",
   "metadata": {},
   "outputs": [
    {
     "name": "stdout",
     "output_type": "stream",
     "text": [
      "+3.867 if x1 >= 0.307 & x2 >= 0.093 \n",
      "-4.845 if x1 <= 0.452 & x2 >= 0.093 & x2 <= 2.707 \n",
      "+1.370 if x1 <= 0.452 & x2 <= 1.836 \n",
      "\n"
     ]
    },
    {
     "data": {
      "text/plain": [
       "RuleBoostingClassificer(3, 5)"
      ]
     },
     "execution_count": 33,
     "metadata": {},
     "output_type": "execute_result"
    }
   ],
   "source": [
    "import scipy\n",
    "import scipy.optimize\n",
    "\n",
    "class RuleBoostingClassificer:\n",
    "\n",
    "    def __init__(self, num_rules=3, max_depth=5):\n",
    "        self.num_rules = num_rules\n",
    "        self.max_depth = max_depth\n",
    "    \n",
    "    def _get_risk(self, y, q_mat):\n",
    "        def sum_loss(weight_vec):\n",
    "            return sum(np.log2(1 + np.exp(-y * (q_mat.dot(weight_vec)))))\n",
    "        return sum_loss\n",
    "\n",
    "    def _get_gradient(self, y, q_mat):\n",
    "        def gradient(weight_vec):\n",
    "            grad_vec = -y * expit(-y * (q_mat.dot(weight_vec)))\n",
    "            return q_mat.T.dot(grad_vec)\n",
    "        return gradient\n",
    "    \n",
    "    def _get_hessian(self, y, q_mat):\n",
    "        def hessian(weight_vec):\n",
    "            sig = expit(-y * (q_mat.dot(weight_vec)))\n",
    "            h_vec = sig * (1.0 - sig)\n",
    "            return q_mat.T.dot(np.diag(h_vec)).dot(q_mat) \n",
    "        return hessian\n",
    "\n",
    "    def fit(self, x, y):\n",
    "        n = len(x)\n",
    "        props = equal_width_propositionalization(x)\n",
    "        self.q_ = []\n",
    "\n",
    "        q_matrix = np.zeros(shape=(n, self.num_rules))\n",
    "        self.coef_ = np.zeros(shape=0)\n",
    "        for i in range(self.num_rules):\n",
    "            # this is a bit shaky in the first iteration but seems to work as intended\n",
    "            # should get more robust once one adds a background rule\n",
    "            y_hat = q_matrix[:, :i].dot(self.coef_) \n",
    "            g = -y * expit(-y * y_hat)\n",
    "\n",
    "            opt_key_pos, opt_val_pos, _, _ = max_weighted_support(x, g, props, self.max_depth)\n",
    "            opt_key_neg, opt_val_neg, _, _ = max_weighted_support(x, -g, props, self.max_depth)\n",
    "            if opt_val_pos >= opt_val_neg:\n",
    "                self.q_.append(props[opt_key_pos])\n",
    "            else:\n",
    "                self.q_.append(props[opt_key_neg])\n",
    "\n",
    "            q_matrix[self.q_[i].support_all(x), i] = 1\n",
    "            risk_func = self._get_risk(y, q_matrix[:, :i+1])\n",
    "            gradient_func = self._get_gradient(y, q_matrix[:, :i+1])\n",
    "            hessian_func = self._get_hessian(y, q_matrix[:, :i+1])\n",
    "            w = np.append(self.coef_[:i], 0.0)\n",
    "            self.coef_ = scipy.optimize.minimize(risk_func, w, method='Newton-CG', jac=gradient_func, hess=hessian_func,\n",
    "                                        options={'disp': False, 'xtol': 1e-6, 'maxiter': 100}).x\n",
    "        return self\n",
    "    \n",
    "    def predict(self, x):\n",
    "        n = len(x)\n",
    "        q_matrix = np.zeros(shape=(n, len(self.q_)))\n",
    "        for i in range(len(self.q_)):\n",
    "            q_matrix[self.q_[i].support_all(x), i] = 1\n",
    "        return 2*(q_matrix.dot(self.coef_) > 0).astype(int) - 1\n",
    "    \n",
    "    def __str__(self):\n",
    "        res = ''\n",
    "        for i in range(len(self.q_)):\n",
    "            res += f'{self.coef_[i]:+.3f} if {self.q_[i].str_from_conj(np.arange(len(self.q_[i])))} \\n'\n",
    "        return res\n",
    "    \n",
    "    def __repr__(self):\n",
    "        return f'RuleBoostingClassificer({self.num_rules}, {self.max_depth})'\n",
    "\n",
    "rb_classifier = RuleBoostingClassificer(num_rules=3).fit(x, y)\n",
    "print(rb_classifier)\n",
    "rb_classifier"
   ]
  },
  {
   "cell_type": "code",
   "execution_count": 32,
   "id": "29e1b670",
   "metadata": {},
   "outputs": [
    {
     "data": {
      "text/plain": [
       "array([ 1,  1, -1,  1,  1,  1,  1,  1,  1,  1, -1, -1,  1,  1, -1,  1,  1,\n",
       "        1,  1,  1, -1,  1,  1,  1,  1, -1,  1, -1,  1,  1,  1, -1, -1,  1,\n",
       "       -1,  1, -1, -1, -1,  1,  1,  1, -1,  1, -1, -1,  1,  1,  1,  1,  1,\n",
       "        1, -1, -1, -1, -1,  1, -1,  1,  1,  1,  1,  1, -1,  1, -1,  1,  1,\n",
       "        1, -1,  1,  1,  1,  1, -1, -1,  1,  1,  1,  1, -1,  1, -1,  1,  1,\n",
       "       -1,  1, -1, -1,  1,  1, -1, -1, -1, -1,  1, -1, -1,  1, -1])"
      ]
     },
     "execution_count": 32,
     "metadata": {},
     "output_type": "execute_result"
    }
   ],
   "source": [
    "rb_classifier.predict(x)"
   ]
  },
  {
   "cell_type": "markdown",
   "id": "0ed36b08",
   "metadata": {},
   "source": [
    "## Integration of Regularisation\n",
    "\n",
    "Classifier with L2 regularization of the weight vector."
   ]
  },
  {
   "cell_type": "code",
   "execution_count": 15,
   "id": "85e36c44",
   "metadata": {},
   "outputs": [
    {
     "name": "stdout",
     "output_type": "stream",
     "text": [
      "+2.187 if x1 >= 0.754 & x2 >= 0.550 & x2 <= 1.914 \n",
      "-1.215 if x2 >= -1.166 & x2 <= 0.682 \n",
      "+1.935 if x1 <= 0.857 & x2 >= -1.782 & x2 <= 1.298 \n",
      "-1.135 if x1 >= -1.291 \n",
      "-1.023 if x1 <= 0.857 & x2 >= 0.550 \n",
      "\n"
     ]
    },
    {
     "data": {
      "text/plain": [
       "RuleBoostingClassificerRegularization(5, 5)"
      ]
     },
     "execution_count": 15,
     "metadata": {},
     "output_type": "execute_result"
    }
   ],
   "source": [
    "class RuleBoostingClassificerRegularization:\n",
    "\n",
    "    def __init__(self, num_rules=3, max_depth=5, reg=0.1):\n",
    "        self.num_rules = num_rules\n",
    "        self.max_depth = max_depth\n",
    "        self.reg = reg\n",
    "\n",
    "    def _get_risk(self, y, q_mat):\n",
    "        def sum_loss(weight_vec):\n",
    "            return sum(np.log2(1 + np.exp(-y * q_mat.dot(weight_vec)))) + self.reg * (weight_vec ** 2).sum() / 2\n",
    "        return sum_loss\n",
    "\n",
    "    def _get_gradient(self, y, q_mat):\n",
    "        def gradient(weight_vec):\n",
    "            grad_vec = -y * sigmoid(-y * (q_mat.dot(weight_vec))) \n",
    "            return q_mat.T.dot(grad_vec) + self.reg * weight_vec\n",
    "        return gradient\n",
    "    \n",
    "    def _get_hessian(self, y, q_mat):\n",
    "        def hessian(weight_vec):\n",
    "            sig = sigmoid(-y * q_mat.dot(weight_vec))\n",
    "            h_vec = sig * (1.0 - sig)\n",
    "            return q_mat.T.dot(np.diag(h_vec)).dot(q_mat) + np.diag([self.reg] * len(weight_vec))\n",
    "        return hessian\n",
    "\n",
    "    def fit(self, x, y):\n",
    "        n = len(x)\n",
    "        props = equal_width_propositionalization(x)\n",
    "        self.q_ = []\n",
    "\n",
    "        q_matrix = np.zeros(shape=(n, self.num_rules))\n",
    "        self.coef_ = np.zeros(shape=0)\n",
    "        for i in range(self.num_rules):\n",
    "            # this is a bit shaky in the first iteration but seems to work as intended\n",
    "            # should get more robust once one adds a background rule\n",
    "            y_hat = q_matrix[:, :i].dot(self.coef_) \n",
    "            g = -y * sigmoid(-y * y_hat)\n",
    "\n",
    "            opt_key_pos, opt_val_pos, _, _ = max_weighted_support(x, g, props, self.max_depth)\n",
    "            opt_key_neg, opt_val_neg, _, _ = max_weighted_support(x, -g, props, self.max_depth)\n",
    "            if opt_val_pos >= opt_val_neg:\n",
    "                self.q_.append(props[opt_key_pos])\n",
    "            else:\n",
    "                self.q_.append(props[opt_key_neg])\n",
    "\n",
    "            q_matrix[self.q_[i].support_all(x), i] = 1\n",
    "            risk = self._get_risk(y, q_matrix[:, :i+1])\n",
    "            gradient = self._get_gradient(y, q_matrix[:, :i+1])\n",
    "            hessian = self._get_hessian(y, q_matrix[:, :i+1])\n",
    "            w = np.append(self.coef_[:i], -1.0)\n",
    "            self.coef_ = scipy.optimize.minimize(risk, w, method='Newton-CG', jac=gradient, hess=hessian,\n",
    "                                        options={'disp': False, 'xtol': 1e-6, 'maxiter': 100}).x\n",
    "\n",
    "        return self\n",
    "    \n",
    "    def predict(self, x):\n",
    "        n = len(x)\n",
    "        q_matrix = np.zeros(shape=(n, len(self.q_)))\n",
    "        for i in range(len(self.q_)):\n",
    "            q_matrix[self.q_[i].support_all(x), i] = 1\n",
    "        return q_matrix.dot(self.coef_)\n",
    "    \n",
    "    def __str__(self):\n",
    "        res = ''\n",
    "        for i in range(len(self.q_)):\n",
    "            res += f'{self.coef_[i]:+.3f} if {self.q_[i].str_from_conj(np.arange(len(self.q_[i])))} \\n'\n",
    "        return res\n",
    "    \n",
    "    def __repr__(self):\n",
    "        return f'RuleBoostingClassificerRegularization({self.num_rules}, {self.max_depth})'\n",
    "\n",
    "rb_classifier_reg = RuleBoostingClassificerRegularization(num_rules=5).fit(x, y)\n",
    "print(rb_classifier_reg)\n",
    "rb_classifier_reg"
   ]
  },
  {
   "cell_type": "code",
   "execution_count": null,
   "id": "b7a6a07c",
   "metadata": {},
   "outputs": [],
   "source": []
  }
 ],
 "metadata": {
  "kernelspec": {
   "display_name": ".venv",
   "language": "python",
   "name": "python3"
  },
  "language_info": {
   "codemirror_mode": {
    "name": "ipython",
    "version": 3
   },
   "file_extension": ".py",
   "mimetype": "text/x-python",
   "name": "python",
   "nbconvert_exporter": "python",
   "pygments_lexer": "ipython3",
   "version": "3.13.3"
  }
 },
 "nbformat": 4,
 "nbformat_minor": 5
}
