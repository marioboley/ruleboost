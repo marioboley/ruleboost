{
 "cells": [
  {
   "cell_type": "markdown",
   "id": "f9ec0454",
   "metadata": {},
   "source": [
    "# Background Rule\n",
    "\n",
    "In this study, we investigate how the background rule should be treated in `ruleboost`, in particular as it relates to refitting and regularisation. In a previous implementation of corrective boosting, the background rule was not refit, which seems clearly sub-optimal as the following example shows."
   ]
  },
  {
   "cell_type": "code",
   "execution_count": 21,
   "id": "a5ea51b0",
   "metadata": {},
   "outputs": [
    {
     "name": "stdout",
     "output_type": "stream",
     "text": [
      "(100, 1)\n",
      "(100,)\n"
     ]
    },
    {
     "data": {
      "image/png": "[encoded data removed]",
      "text/plain": [
       "<Figure size 640x480 with 1 Axes>"
      ]
     },
     "metadata": {},
     "output_type": "display_data"
    }
   ],
   "source": [
    "import numpy as np\n",
    "from scipy.special import expit\n",
    "from matplotlib import pyplot as plt\n",
    "\n",
    "RNG = np.random.default_rng(seed=0)\n",
    "x = RNG.uniform(size=100).reshape(-1, 1)\n",
    "y = RNG.binomial(1, expit(20*(x-0.75))).reshape(-1)\n",
    "y = y - y.mean()\n",
    "\n",
    "print(x.shape)\n",
    "print(y.shape)\n",
    "\n",
    "plt.scatter(x, y, marker='x', color='black')\n",
    "plt.xlabel('$x$'); plt.ylabel('$y$')\n",
    "plt.show()"
   ]
  },
  {
   "cell_type": "code",
   "execution_count": 18,
   "id": "8676772b",
   "metadata": {},
   "outputs": [
    {
     "name": "stdout",
     "output_type": "stream",
     "text": [
      "-0.293 if x1 <= 0.670 \n",
      "\n"
     ]
    }
   ],
   "source": [
    "import sys\n",
    "from pathlib import Path\n",
    "sys.path.insert(0, str(Path().resolve().parent))\n",
    "\n",
    "from ruleboost import RuleBoostingRegressor\n",
    "\n",
    "regressor = RuleBoostingRegressor(num_rules=1).fit(x, y)\n",
    "print(regressor)"
   ]
  }
 ],
 "metadata": {
  "kernelspec": {
   "display_name": ".venv",
   "language": "python",
   "name": "python3"
  },
  "language_info": {
   "codemirror_mode": {
    "name": "ipython",
    "version": 3
   },
   "file_extension": ".py",
   "mimetype": "text/x-python",
   "name": "python",
   "nbconvert_exporter": "python",
   "pygments_lexer": "ipython3",
   "version": "3.13.3"
  }
 },
 "nbformat": 4,
 "nbformat_minor": 5
}
