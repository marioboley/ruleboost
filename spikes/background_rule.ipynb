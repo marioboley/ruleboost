{
 "cells": [
  {
   "cell_type": "markdown",
   "id": "f9ec0454",
   "metadata": {},
   "source": [
    "# Background Rule\n",
    "\n",
    "In this study, we investigate how the background rule should be treated in `ruleboost`, in particular as it relates to refitting and regularisation. In a previous implementation of corrective boosting, the background rule was not refit, which seems clearly sub-optimal as the following example shows."
   ]
  },
  {
   "cell_type": "code",
   "execution_count": 76,
   "id": "a5ea51b0",
   "metadata": {},
   "outputs": [
    {
     "name": "stdout",
     "output_type": "stream",
     "text": [
      "(100, 1)\n",
      "(100,)\n"
     ]
    },
    {
     "data": {
      "image/png": "[encoded data removed]",
      "text/plain": [
       "<Figure size 640x480 with 1 Axes>"
      ]
     },
     "metadata": {},
     "output_type": "display_data"
    }
   ],
   "source": [
    "import numpy as np\n",
    "from scipy.special import expit\n",
    "from matplotlib import pyplot as plt\n",
    "\n",
    "RNG = np.random.default_rng(seed=0)\n",
    "x = RNG.uniform(size=100).reshape(-1, 1)\n",
    "y = RNG.binomial(1, expit(20*(x-0.75))).reshape(-1)\n",
    "# y = y - y.mean()\n",
    "\n",
    "print(x.shape)\n",
    "print(y.shape)\n",
    "\n",
    "plt.scatter(x, y, marker='x', color='black')\n",
    "plt.xlabel('$x$'); plt.ylabel('$y$')\n",
    "plt.show()"
   ]
  },
  {
   "cell_type": "markdown",
   "id": "71e3b56b",
   "metadata": {},
   "source": [
    "## Implementation of Background Rule as Empty Conjunction"
   ]
  },
  {
   "cell_type": "code",
   "execution_count": 77,
   "id": "89dc4cfe",
   "metadata": {},
   "outputs": [
    {
     "data": {
      "text/plain": [
       "array([ 0,  1,  2,  3,  4,  5,  6,  7,  8,  9, 10, 11, 12, 13, 14, 15, 16,\n",
       "       17, 18, 19, 20, 21, 22, 23, 24, 25, 26, 27, 28, 29, 30, 31, 32, 33,\n",
       "       34, 35, 36, 37, 38, 39, 40, 41, 42, 43, 44, 45, 46, 47, 48, 49, 50,\n",
       "       51, 52, 53, 54, 55, 56, 57, 58, 59, 60, 61, 62, 63, 64, 65, 66, 67,\n",
       "       68, 69, 70, 71, 72, 73, 74, 75, 76, 77, 78, 79, 80, 81, 82, 83, 84,\n",
       "       85, 86, 87, 88, 89, 90, 91, 92, 93, 94, 95, 96, 97, 98, 99])"
      ]
     },
     "execution_count": 77,
     "metadata": {},
     "output_type": "execute_result"
    }
   ],
   "source": [
    "from optikon import equal_width_propositionalization\n",
    "\n",
    "props = equal_width_propositionalization(x)\n",
    "props[:0].str_from_conj(np.array([], dtype=int))\n",
    "props[:0].support_all(x)"
   ]
  },
  {
   "cell_type": "code",
   "execution_count": 82,
   "id": "36a2e6df",
   "metadata": {},
   "outputs": [
    {
     "name": "stdout",
     "output_type": "stream",
     "text": [
      "+0.732 if  \n",
      "-0.715 if x1 <= 0.670 \n"
     ]
    }
   ],
   "source": [
    "from optikon import max_weighted_support, equal_width_propositionalization\n",
    "\n",
    "class RuleBoostingRegressor:\n",
    "\n",
    "    def __init__(self, num_rules=3, fit_intercept=True, lam=0.0, max_depth=5):\n",
    "        self.num_rules = num_rules\n",
    "        self.fit_intercept = fit_intercept\n",
    "        self.max_depth = max_depth\n",
    "        self.lam = lam\n",
    "\n",
    "    def fit(self, x, y):\n",
    "        n = len(x)\n",
    "        props = equal_width_propositionalization(x)\n",
    "        \n",
    "        q_matrix = np.zeros(shape=(n, self.num_rules+self.fit_intercept))\n",
    "\n",
    "        if self.fit_intercept:\n",
    "            self.q_ = [props[:0]]\n",
    "            q_matrix[:, 0] = 1\n",
    "            self.coef_ = np.array([y.mean()])\n",
    "        else:\n",
    "            self.q_ = []\n",
    "            q_matrix = np.zeros(shape=(n, self.num_rules))\n",
    "            self.coef_ = np.zeros(shape=0)\n",
    "\n",
    "        for i in range(self.fit_intercept, self.num_rules+self.fit_intercept):\n",
    "            y_hat = q_matrix[:, :i].dot(self.coef_) \n",
    "            g = y - y_hat\n",
    "\n",
    "            opt_key_pos, opt_val_pos, _, _ = max_weighted_support(x, g, props, self.max_depth)\n",
    "            opt_key_neg, opt_val_neg, _, _ = max_weighted_support(x, -g, props, self.max_depth)\n",
    "            if opt_val_pos >= opt_val_neg:\n",
    "                self.q_.append(props[opt_key_pos])\n",
    "            else:\n",
    "                self.q_.append(props[opt_key_neg])\n",
    "\n",
    "            q_matrix[self.q_[i].support_all(x), i] = 1\n",
    "            gramian = q_matrix[:, :i+1].T.dot(q_matrix[:, :i+1])\n",
    "            if self.lam > 0:\n",
    "                if self.fit_intercept:\n",
    "                    gramian[np.diag_indices_from(gramian)[0][1:], np.diag_indices_from(gramian)[1][1:]] += self.lam\n",
    "                    print(gramian)\n",
    "                else:\n",
    "                    gramian[np.diag_indices_from(gramian)] += self.lam\n",
    "\n",
    "            self.coef_ = np.linalg.solve(gramian, q_matrix[:, :i+1].T.dot(y))\n",
    "\n",
    "        return self\n",
    "    \n",
    "    def predict(self, x):\n",
    "        n = len(x)\n",
    "        q_matrix = np.zeros(shape=(n, len(self.q_)))\n",
    "        for i in range(len(self.q_)):\n",
    "            q_matrix[self.q_[i].support_all(x), i] = 1\n",
    "        return q_matrix.dot(self.coef_)\n",
    "    \n",
    "    def __str__(self):\n",
    "        res = ''\n",
    "        for i in range(len(self.q_)):\n",
    "            res += f'{self.coef_[i]:+.3f} if {self.q_[i].str_from_conj(np.arange(len(self.q_[i])))} {'\\n' if i<len(self.q_)-1 else ''}'\n",
    "        return res\n",
    "    \n",
    "    def __repr__(self):\n",
    "        return f'RuleBoostingRegressor({self.num_rules}, {self.max_depth})'\n",
    "    \n",
    "regressor_with_background_rule = RuleBoostingRegressor(num_rules=1, fit_intercept=True, lam=0).fit(x, y)\n",
    "print(regressor_with_background_rule)"
   ]
  },
  {
   "cell_type": "code",
   "execution_count": 55,
   "id": "bda32ed1",
   "metadata": {},
   "outputs": [
    {
     "name": "stdout",
     "output_type": "stream",
     "text": [
      "-0.293 if x1 <= 0.670 \n"
     ]
    }
   ],
   "source": [
    "regressor_without_background_rule = RuleBoostingRegressor(num_rules=1, fit_intercept=False).fit(x, y)\n",
    "print(regressor_without_background_rule)"
   ]
  },
  {
   "cell_type": "code",
   "execution_count": 56,
   "id": "6bfbe0ce",
   "metadata": {},
   "outputs": [
    {
     "name": "stdout",
     "output_type": "stream",
     "text": [
      "train error: 0.16323150847457624\n",
      "test error: 0.48991632031025567\n",
      "train error with intercept: 0.09031831335262504\n",
      "test error with intercept: 0.4740158973477331\n"
     ]
    }
   ],
   "source": [
    "from sklearn.metrics import mean_squared_error\n",
    "\n",
    "x_test = RNG.uniform(size=100).reshape(-1, 1)\n",
    "y_test = RNG.binomial(1, expit(20*(x-0.75))).reshape(-1)\n",
    "y_test = y_test - y.mean() # use mean of training data to obtain identical train and test distribution\n",
    "\n",
    "print('train error:', mean_squared_error(y, regressor_without_background_rule.predict(x)))\n",
    "print('test error:', mean_squared_error(y_test, regressor_without_background_rule.predict(x_test)))\n",
    "\n",
    "print('train error with intercept:', mean_squared_error(y, regressor_with_background_rule.predict(x)))\n",
    "print('test error with intercept:', mean_squared_error(y_test, regressor_with_background_rule.predict(x_test)))"
   ]
  },
  {
   "cell_type": "markdown",
   "id": "379a0887",
   "metadata": {},
   "source": [
    "## Error Comparison of Models with and without Background Rule"
   ]
  },
  {
   "cell_type": "code",
   "execution_count": 58,
   "id": "1cd58356",
   "metadata": {},
   "outputs": [
    {
     "name": "stdout",
     "output_type": "stream",
     "text": [
      "+0.422 if  \n",
      "-0.715 if x1 <= 0.670 \n",
      "train error: 0.09031831335262504\n",
      "test error: 0.4740158973477331\n",
      "\n",
      "+0.290 if  \n",
      "-0.583 if x1 <= 0.670 \n",
      "+0.338 if x1 >= 0.892 \n",
      "train error: 0.07920550847457626\n",
      "test error: 0.47917782031025546\n",
      "\n",
      "+0.290 if  \n",
      "-0.550 if x1 <= 0.670 \n",
      "+0.338 if x1 >= 0.892 \n",
      "-0.050 if x1 <= 0.448 \n",
      "train error: 0.07887499999999999\n",
      "test error: 0.47648249999999975\n",
      "\n"
     ]
    }
   ],
   "source": [
    "for k in range(1, 4):\n",
    "    regressor_with_background_rule = RuleBoostingRegressor(num_rules=k, fit_intercept=True).fit(x, y)\n",
    "    print(regressor_with_background_rule)\n",
    "    print('train error:', mean_squared_error(y, regressor_with_background_rule.predict(x)))\n",
    "    print('test error:', mean_squared_error(y_test, regressor_with_background_rule.predict(x_test)))\n",
    "    print()"
   ]
  },
  {
   "cell_type": "code",
   "execution_count": 60,
   "id": "995c230f",
   "metadata": {},
   "outputs": [
    {
     "name": "stdout",
     "output_type": "stream",
     "text": [
      "-0.293 if x1 <= 0.670 \n",
      "train error: 0.16323150847457624\n",
      "test error: 0.48991632031025567\n",
      "\n",
      "-0.405 if x1 <= 0.670 \n",
      "+0.331 if x1 >= 0.448 \n",
      "train error: 0.10380011878712098\n",
      "test error: 0.4662680355134032\n",
      "\n",
      "-0.363 if x1 <= 0.670 \n",
      "+0.628 if x1 >= 0.448 \n",
      "-0.421 if x1 >= 0.448 & x1 <= 0.892 \n",
      "train error: 0.08385593126385807\n",
      "test error: 0.47468945819587915\n",
      "\n",
      "-0.310 if x1 <= 0.670 \n",
      "+0.628 if x1 >= 0.448 \n",
      "-0.578 if x1 >= 0.448 & x1 <= 0.892 \n",
      "+0.240 if x1 >= 0.670 & x1 <= 0.892 \n",
      "train error: 0.078875\n",
      "test error: 0.4764824999999999\n",
      "\n"
     ]
    }
   ],
   "source": [
    "for k in range(1, 5):\n",
    "    regressor_without_background_rule = RuleBoostingRegressor(num_rules=k, fit_intercept=False).fit(x, y)\n",
    "    print(regressor_without_background_rule)\n",
    "    print('train error:', mean_squared_error(y, regressor_without_background_rule.predict(x)))\n",
    "    print('test error:', mean_squared_error(y_test, regressor_without_background_rule.predict(x_test)))\n",
    "    print()"
   ]
  }
 ],
 "metadata": {
  "kernelspec": {
   "display_name": ".venv",
   "language": "python",
   "name": "python3"
  },
  "language_info": {
   "codemirror_mode": {
    "name": "ipython",
    "version": 3
   },
   "file_extension": ".py",
   "mimetype": "text/x-python",
   "name": "python",
   "nbconvert_exporter": "python",
   "pygments_lexer": "ipython3",
   "version": "3.13.3"
  }
 },
 "nbformat": 4,
 "nbformat_minor": 5
}
