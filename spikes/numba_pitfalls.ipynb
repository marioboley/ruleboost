{
 "cells": [
  {
   "cell_type": "markdown",
   "id": "0a00c59f",
   "metadata": {},
   "source": [
    "# Numba Pitfalls\n",
    "\n",
    "This is a collection of surprising behaviours of numba (at least as of version 0.61.2)."
   ]
  },
  {
   "cell_type": "markdown",
   "id": "0f4535d8",
   "metadata": {},
   "source": [
    "## Difference of Spec and Class Field Style: Holding other jitclass objects"
   ]
  },
  {
   "cell_type": "code",
   "execution_count": 5,
   "id": "bfeb5f7d",
   "metadata": {},
   "outputs": [
    {
     "data": {
      "text/plain": [
       "5"
      ]
     },
     "execution_count": 5,
     "metadata": {},
     "output_type": "execute_result"
    }
   ],
   "source": [
    "from numba import int64\n",
    "from numba.experimental import jitclass\n",
    "\n",
    "inner_spec = [('v', int64)]\n",
    "@jitclass(inner_spec)\n",
    "class Inner:\n",
    "    def __init__(self, v):\n",
    "        self.v = v\n",
    "\n",
    "@jitclass\n",
    "class Outer:\n",
    "\n",
    "    inner: Inner\n",
    "\n",
    "    def __init__(self, inner):\n",
    "        self.inner = inner\n",
    "\n",
    "\n",
    "inner_obj = Inner(5)\n",
    "outer_obj = Outer(inner_obj)\n",
    "outer_obj.inner.v"
   ]
  },
  {
   "cell_type": "code",
   "execution_count": 6,
   "id": "468d4379",
   "metadata": {},
   "outputs": [
    {
     "ename": "TypingError",
     "evalue": "Failed in nopython mode pipeline (step: nopython frontend)\nFailed in nopython mode pipeline (step: native lowering)\nCannot cast instance.jitclass.Inner#127b9fc50<v:int64> to jitclass.Inner#127b9fc50<v:int64>: %\"inserted.data.1\" = insertvalue {i8*, {i64}*} %\"inserted.meminfo.1\", {i64}* %\"arg.inner.1\", 1\nDuring: lowering \"(self).inner = inner\" at /var/folders/zw/qxvhv2ms1rx684818_y1cvl40000gn/T/ipykernel_58903/3045205564.py (15)\nDuring: Pass native_lowering\nDuring: resolving callee type: jitclass.Outer#127d5fb60<inner:jitclass.Inner#127b9fc50<v:int64>>\nDuring: typing of call at <string> (3)\n\nDuring: resolving callee type: jitclass.Outer#127d5fb60<inner:jitclass.Inner#127b9fc50<v:int64>>\nDuring: typing of call at <string> (3)\n\n\nFile \"<string>\", line 3:\n<source missing, REPL/exec in use?>\n\nDuring: Pass nopython_type_inference",
     "output_type": "error",
     "traceback": [
      "\u001b[31m---------------------------------------------------------------------------\u001b[39m",
      "\u001b[31mTypingError\u001b[39m                               Traceback (most recent call last)",
      "\u001b[36mCell\u001b[39m\u001b[36m \u001b[39m\u001b[32mIn[6]\u001b[39m\u001b[32m, line 20\u001b[39m\n\u001b[32m     17\u001b[39m inner_obj = Inner(\u001b[32m5\u001b[39m)\n\u001b[32m     19\u001b[39m \u001b[38;5;66;03m# This will raise TypingError\u001b[39;00m\n\u001b[32m---> \u001b[39m\u001b[32m20\u001b[39m outer_obj = \u001b[43mOuter\u001b[49m\u001b[43m(\u001b[49m\u001b[43minner_obj\u001b[49m\u001b[43m)\u001b[49m\n\u001b[32m     21\u001b[39m outer_obj.inner.v\n",
      "\u001b[36mFile \u001b[39m\u001b[32m~/Documents/GitHub/ruleboost/.venv/lib/python3.13/site-packages/numba/experimental/jitclass/base.py:124\u001b[39m, in \u001b[36mJitClassType.__call__\u001b[39m\u001b[34m(cls, *args, **kwargs)\u001b[39m\n\u001b[32m    122\u001b[39m bind = \u001b[38;5;28mcls\u001b[39m._ctor_sig.bind(\u001b[38;5;28;01mNone\u001b[39;00m, *args, **kwargs)\n\u001b[32m    123\u001b[39m bind.apply_defaults()\n\u001b[32m--> \u001b[39m\u001b[32m124\u001b[39m \u001b[38;5;28;01mreturn\u001b[39;00m \u001b[38;5;28;43mcls\u001b[39;49m\u001b[43m.\u001b[49m\u001b[43m_ctor\u001b[49m\u001b[43m(\u001b[49m\u001b[43m*\u001b[49m\u001b[43mbind\u001b[49m\u001b[43m.\u001b[49m\u001b[43margs\u001b[49m\u001b[43m[\u001b[49m\u001b[32;43m1\u001b[39;49m\u001b[43m:\u001b[49m\u001b[43m]\u001b[49m\u001b[43m,\u001b[49m\u001b[43m \u001b[49m\u001b[43m*\u001b[49m\u001b[43m*\u001b[49m\u001b[43mbind\u001b[49m\u001b[43m.\u001b[49m\u001b[43mkwargs\u001b[49m\u001b[43m)\u001b[49m\n",
      "\u001b[36mFile \u001b[39m\u001b[32m~/Documents/GitHub/ruleboost/.venv/lib/python3.13/site-packages/numba/core/dispatcher.py:424\u001b[39m, in \u001b[36m_DispatcherBase._compile_for_args\u001b[39m\u001b[34m(self, *args, **kws)\u001b[39m\n\u001b[32m    420\u001b[39m         msg = (\u001b[33mf\u001b[39m\u001b[33m\"\u001b[39m\u001b[38;5;132;01m{\u001b[39;00m\u001b[38;5;28mstr\u001b[39m(e).rstrip()\u001b[38;5;132;01m}\u001b[39;00m\u001b[33m \u001b[39m\u001b[38;5;130;01m\\n\u001b[39;00m\u001b[38;5;130;01m\\n\u001b[39;00m\u001b[33mThis error may have been caused \u001b[39m\u001b[33m\"\u001b[39m\n\u001b[32m    421\u001b[39m                \u001b[33mf\u001b[39m\u001b[33m\"\u001b[39m\u001b[33mby the following argument(s):\u001b[39m\u001b[38;5;130;01m\\n\u001b[39;00m\u001b[38;5;132;01m{\u001b[39;00margs_str\u001b[38;5;132;01m}\u001b[39;00m\u001b[38;5;130;01m\\n\u001b[39;00m\u001b[33m\"\u001b[39m)\n\u001b[32m    422\u001b[39m         e.patch_message(msg)\n\u001b[32m--> \u001b[39m\u001b[32m424\u001b[39m     \u001b[43merror_rewrite\u001b[49m\u001b[43m(\u001b[49m\u001b[43me\u001b[49m\u001b[43m,\u001b[49m\u001b[43m \u001b[49m\u001b[33;43m'\u001b[39;49m\u001b[33;43mtyping\u001b[39;49m\u001b[33;43m'\u001b[39;49m\u001b[43m)\u001b[49m\n\u001b[32m    425\u001b[39m \u001b[38;5;28;01mexcept\u001b[39;00m errors.UnsupportedError \u001b[38;5;28;01mas\u001b[39;00m e:\n\u001b[32m    426\u001b[39m     \u001b[38;5;66;03m# Something unsupported is present in the user code, add help info\u001b[39;00m\n\u001b[32m    427\u001b[39m     error_rewrite(e, \u001b[33m'\u001b[39m\u001b[33munsupported_error\u001b[39m\u001b[33m'\u001b[39m)\n",
      "\u001b[36mFile \u001b[39m\u001b[32m~/Documents/GitHub/ruleboost/.venv/lib/python3.13/site-packages/numba/core/dispatcher.py:365\u001b[39m, in \u001b[36m_DispatcherBase._compile_for_args.<locals>.error_rewrite\u001b[39m\u001b[34m(e, issue_type)\u001b[39m\n\u001b[32m    363\u001b[39m     \u001b[38;5;28;01mraise\u001b[39;00m e\n\u001b[32m    364\u001b[39m \u001b[38;5;28;01melse\u001b[39;00m:\n\u001b[32m--> \u001b[39m\u001b[32m365\u001b[39m     \u001b[38;5;28;01mraise\u001b[39;00m e.with_traceback(\u001b[38;5;28;01mNone\u001b[39;00m)\n",
      "\u001b[31mTypingError\u001b[39m: Failed in nopython mode pipeline (step: nopython frontend)\nFailed in nopython mode pipeline (step: native lowering)\nCannot cast instance.jitclass.Inner#127b9fc50<v:int64> to jitclass.Inner#127b9fc50<v:int64>: %\"inserted.data.1\" = insertvalue {i8*, {i64}*} %\"inserted.meminfo.1\", {i64}* %\"arg.inner.1\", 1\nDuring: lowering \"(self).inner = inner\" at /var/folders/zw/qxvhv2ms1rx684818_y1cvl40000gn/T/ipykernel_58903/3045205564.py (15)\nDuring: Pass native_lowering\nDuring: resolving callee type: jitclass.Outer#127d5fb60<inner:jitclass.Inner#127b9fc50<v:int64>>\nDuring: typing of call at <string> (3)\n\nDuring: resolving callee type: jitclass.Outer#127d5fb60<inner:jitclass.Inner#127b9fc50<v:int64>>\nDuring: typing of call at <string> (3)\n\n\nFile \"<string>\", line 3:\n<source missing, REPL/exec in use?>\n\nDuring: Pass nopython_type_inference"
     ]
    }
   ],
   "source": [
    "from numba import int64\n",
    "from numba.experimental import jitclass\n",
    "\n",
    "inner_spec = [('v', int64)]\n",
    "@jitclass(inner_spec)\n",
    "class Inner:\n",
    "    def __init__(self, v):\n",
    "        self.v = v\n",
    "\n",
    "outer_spec = [('inner', Inner.class_type)]\n",
    "@jitclass(outer_spec)\n",
    "class Outer:\n",
    "\n",
    "    def __init__(self, inner):\n",
    "        self.inner = inner\n",
    "\n",
    "inner_obj = Inner(5)\n",
    "\n",
    "# This will raise TypingError\n",
    "outer_obj = Outer(inner_obj)\n",
    "outer_obj.inner.v"
   ]
  },
  {
   "cell_type": "markdown",
   "id": "beb5c0e9",
   "metadata": {},
   "source": [
    "## No functions as fields in jitclasses"
   ]
  },
  {
   "cell_type": "code",
   "execution_count": 10,
   "id": "851246dc",
   "metadata": {},
   "outputs": [
    {
     "name": "stdout",
     "output_type": "stream",
     "text": [
      "20\n"
     ]
    },
    {
     "ename": "TypingError",
     "evalue": "Cannot infer numba type of python type <class 'numba.core.types.function_type.FunctionType'>",
     "output_type": "error",
     "traceback": [
      "\u001b[31m---------------------------------------------------------------------------\u001b[39m",
      "\u001b[31mTypingError\u001b[39m                               Traceback (most recent call last)",
      "\u001b[36mCell\u001b[39m\u001b[36m \u001b[39m\u001b[32mIn[10]\u001b[39m\u001b[32m, line 10\u001b[39m\n\u001b[32m      6\u001b[39m     \u001b[38;5;28;01mreturn\u001b[39;00m \u001b[32m2\u001b[39m*x\n\u001b[32m      8\u001b[39m \u001b[38;5;28mprint\u001b[39m(some_njit_function(\u001b[32m10\u001b[39m))\n\u001b[32m---> \u001b[39m\u001b[32m10\u001b[39m \u001b[38;5;129;43m@jitclass\u001b[39;49m\n\u001b[32m     11\u001b[39m \u001b[38;5;28;43;01mclass\u001b[39;49;00m\u001b[38;5;250;43m \u001b[39;49m\u001b[34;43;01mFoo\u001b[39;49;00m\u001b[43m:\u001b[49m\n\u001b[32m     13\u001b[39m \u001b[43m    \u001b[49m\u001b[43mf\u001b[49m\u001b[43m:\u001b[49m\u001b[43m \u001b[49m\u001b[43mtypes\u001b[49m\u001b[43m.\u001b[49m\u001b[43mFunctionType\u001b[49m\n\u001b[32m     15\u001b[39m \u001b[43m    \u001b[49m\u001b[38;5;28;43;01mdef\u001b[39;49;00m\u001b[38;5;250;43m \u001b[39;49m\u001b[34;43m__init__\u001b[39;49m\u001b[43m(\u001b[49m\u001b[38;5;28;43mself\u001b[39;49m\u001b[43m,\u001b[49m\u001b[43m \u001b[49m\u001b[43mf\u001b[49m\u001b[43m)\u001b[49m\u001b[43m:\u001b[49m\n",
      "\u001b[36mFile \u001b[39m\u001b[32m~/Documents/GitHub/ruleboost/.venv/lib/python3.13/site-packages/numba/experimental/jitclass/decorators.py:88\u001b[39m, in \u001b[36mjitclass\u001b[39m\u001b[34m(cls_or_spec, spec)\u001b[39m\n\u001b[32m     86\u001b[39m     \u001b[38;5;28;01mreturn\u001b[39;00m wrap\n\u001b[32m     87\u001b[39m \u001b[38;5;28;01melse\u001b[39;00m:\n\u001b[32m---> \u001b[39m\u001b[32m88\u001b[39m     \u001b[38;5;28;01mreturn\u001b[39;00m \u001b[43mwrap\u001b[49m\u001b[43m(\u001b[49m\u001b[43mcls_or_spec\u001b[49m\u001b[43m)\u001b[49m\n",
      "\u001b[36mFile \u001b[39m\u001b[32m~/Documents/GitHub/ruleboost/.venv/lib/python3.13/site-packages/numba/experimental/jitclass/decorators.py:77\u001b[39m, in \u001b[36mjitclass.<locals>.wrap\u001b[39m\u001b[34m(cls)\u001b[39m\n\u001b[32m     74\u001b[39m \u001b[38;5;28;01melse\u001b[39;00m:\n\u001b[32m     75\u001b[39m     \u001b[38;5;28;01mfrom\u001b[39;00m\u001b[38;5;250m \u001b[39m\u001b[34;01mnumba\u001b[39;00m\u001b[34;01m.\u001b[39;00m\u001b[34;01mexperimental\u001b[39;00m\u001b[34;01m.\u001b[39;00m\u001b[34;01mjitclass\u001b[39;00m\u001b[34;01m.\u001b[39;00m\u001b[34;01mbase\u001b[39;00m\u001b[38;5;250m \u001b[39m\u001b[38;5;28;01mimport\u001b[39;00m (register_class_type,\n\u001b[32m     76\u001b[39m                                                   ClassBuilder)\n\u001b[32m---> \u001b[39m\u001b[32m77\u001b[39m     cls_jitted = \u001b[43mregister_class_type\u001b[49m\u001b[43m(\u001b[49m\u001b[38;5;28;43mcls\u001b[39;49m\u001b[43m,\u001b[49m\u001b[43m \u001b[49m\u001b[43mspec\u001b[49m\u001b[43m,\u001b[49m\u001b[43m \u001b[49m\u001b[43mtypes\u001b[49m\u001b[43m.\u001b[49m\u001b[43mClassType\u001b[49m\u001b[43m,\u001b[49m\n\u001b[32m     78\u001b[39m \u001b[43m                                     \u001b[49m\u001b[43mClassBuilder\u001b[49m\u001b[43m)\u001b[49m\n\u001b[32m     80\u001b[39m     \u001b[38;5;66;03m# Preserve the module name of the original class\u001b[39;00m\n\u001b[32m     81\u001b[39m     cls_jitted.\u001b[34m__module__\u001b[39m = \u001b[38;5;28mcls\u001b[39m.\u001b[34m__module__\u001b[39m\n",
      "\u001b[36mFile \u001b[39m\u001b[32m~/Documents/GitHub/ruleboost/.venv/lib/python3.13/site-packages/numba/experimental/jitclass/base.py:180\u001b[39m, in \u001b[36mregister_class_type\u001b[39m\u001b[34m(cls, spec, class_ctor, builder)\u001b[39m\n\u001b[32m    178\u001b[39m \u001b[38;5;28;01mfor\u001b[39;00m attr, py_type \u001b[38;5;129;01min\u001b[39;00m pt.get_type_hints(\u001b[38;5;28mcls\u001b[39m).items():\n\u001b[32m    179\u001b[39m     \u001b[38;5;28;01mif\u001b[39;00m attr \u001b[38;5;129;01mnot\u001b[39;00m \u001b[38;5;129;01min\u001b[39;00m spec:\n\u001b[32m--> \u001b[39m\u001b[32m180\u001b[39m         spec[attr] = \u001b[43mas_numba_type\u001b[49m\u001b[43m(\u001b[49m\u001b[43mpy_type\u001b[49m\u001b[43m)\u001b[49m\n\u001b[32m    182\u001b[39m _validate_spec(spec)\n\u001b[32m    184\u001b[39m \u001b[38;5;66;03m# Fix up private attribute names\u001b[39;00m\n",
      "\u001b[36mFile \u001b[39m\u001b[32m~/Documents/GitHub/ruleboost/.venv/lib/python3.13/site-packages/numba/core/typing/asnumbatype.py:121\u001b[39m, in \u001b[36mAsNumbaTypeRegistry.__call__\u001b[39m\u001b[34m(self, py_type)\u001b[39m\n\u001b[32m    120\u001b[39m \u001b[38;5;28;01mdef\u001b[39;00m\u001b[38;5;250m \u001b[39m\u001b[34m__call__\u001b[39m(\u001b[38;5;28mself\u001b[39m, py_type):\n\u001b[32m--> \u001b[39m\u001b[32m121\u001b[39m     \u001b[38;5;28;01mreturn\u001b[39;00m \u001b[38;5;28;43mself\u001b[39;49m\u001b[43m.\u001b[49m\u001b[43minfer\u001b[49m\u001b[43m(\u001b[49m\u001b[43mpy_type\u001b[49m\u001b[43m)\u001b[49m\n",
      "\u001b[36mFile \u001b[39m\u001b[32m~/Documents/GitHub/ruleboost/.venv/lib/python3.13/site-packages/numba/core/typing/asnumbatype.py:115\u001b[39m, in \u001b[36mAsNumbaTypeRegistry.infer\u001b[39m\u001b[34m(self, py_type)\u001b[39m\n\u001b[32m    113\u001b[39m result = \u001b[38;5;28mself\u001b[39m.try_infer(py_type)\n\u001b[32m    114\u001b[39m \u001b[38;5;28;01mif\u001b[39;00m result \u001b[38;5;129;01mis\u001b[39;00m \u001b[38;5;28;01mNone\u001b[39;00m:\n\u001b[32m--> \u001b[39m\u001b[32m115\u001b[39m     \u001b[38;5;28;01mraise\u001b[39;00m errors.TypingError(\n\u001b[32m    116\u001b[39m         \u001b[33mf\u001b[39m\u001b[33m\"\u001b[39m\u001b[33mCannot infer numba type of python type \u001b[39m\u001b[38;5;132;01m{\u001b[39;00mpy_type\u001b[38;5;132;01m}\u001b[39;00m\u001b[33m\"\u001b[39m\n\u001b[32m    117\u001b[39m     )\n\u001b[32m    118\u001b[39m \u001b[38;5;28;01mreturn\u001b[39;00m result\n",
      "\u001b[31mTypingError\u001b[39m: Cannot infer numba type of python type <class 'numba.core.types.function_type.FunctionType'>"
     ]
    }
   ],
   "source": [
    "from numba import types\n",
    "from numba import njit\n",
    "\n",
    "@njit\n",
    "def some_njit_function(x):\n",
    "    return 2*x\n",
    "\n",
    "print(some_njit_function(10))\n",
    "\n",
    "@jitclass\n",
    "class Foo:\n",
    "\n",
    "    f: types.FunctionType\n",
    "\n",
    "    def __init__(self, f):\n",
    "        self.f = f"
   ]
  }
 ],
 "metadata": {
  "kernelspec": {
   "display_name": ".venv",
   "language": "python",
   "name": "python3"
  },
  "language_info": {
   "codemirror_mode": {
    "name": "ipython",
    "version": 3
   },
   "file_extension": ".py",
   "mimetype": "text/x-python",
   "name": "python",
   "nbconvert_exporter": "python",
   "pygments_lexer": "ipython3",
   "version": "3.13.3"
  }
 },
 "nbformat": 4,
 "nbformat_minor": 5
}
