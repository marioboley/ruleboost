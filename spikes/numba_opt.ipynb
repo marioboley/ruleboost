{
 "cells": [
  {
   "cell_type": "markdown",
   "id": "f2226a7f",
   "metadata": {},
   "source": [
    "# Numba-compatible Optimisation\n",
    "\n",
    "> **Created** by Mario Boley on 2025-06-09\n",
    "\n",
    "In the future we might want to replace `scipy.optimize` by compiled `numba`-code. This could be especially useful for Shahrzad's LLTBoost algorithm."
   ]
  },
  {
   "cell_type": "code",
   "execution_count": 34,
   "id": "8d6b919d",
   "metadata": {},
   "outputs": [
    {
     "data": {
      "text/plain": [
       "(array([[ 1.76405235,  0.40015721],\n",
       "        [ 0.97873798,  2.2408932 ],\n",
       "        [ 1.86755799, -0.97727788],\n",
       "        [ 0.95008842, -0.15135721],\n",
       "        [-0.10321885,  0.4105985 ],\n",
       "        [ 0.14404357,  1.45427351],\n",
       "        [ 0.76103773,  0.12167502],\n",
       "        [ 0.44386323,  0.33367433],\n",
       "        [ 1.49407907, -0.20515826],\n",
       "        [ 0.3130677 , -0.85409574]]),\n",
       " array([0., 0., 0., 0., 1., 1., 0., 0., 0., 0.]),\n",
       " array([-2.55298982,  0.6536186 ]))"
      ]
     },
     "execution_count": 34,
     "metadata": {},
     "output_type": "execute_result"
    }
   ],
   "source": [
    "import numpy as np\n",
    "from numba import njit\n",
    "\n",
    "@njit\n",
    "def generate_logreg_data(n, p, seed=0):\n",
    "    np.random.seed(seed)\n",
    "    x = np.random.randn(n, p)\n",
    "    w_true = np.random.randn(p)\n",
    "    logits = x @ w_true\n",
    "    probs = 1 / (1 + np.exp(-logits))\n",
    "    y = np.empty(n)\n",
    "    for i in range(n):\n",
    "        y[i] = 1.0 if np.random.rand() < probs[i] else 0.0\n",
    "    return x, y, w_true\n",
    "\n",
    "x, y, beta = generate_logreg_data(10, 2)\n",
    "x, y, beta"
   ]
  },
  {
   "cell_type": "markdown",
   "id": "521baf11",
   "metadata": {},
   "source": [
    "## Numba Implementation of Raw Newton"
   ]
  },
  {
   "cell_type": "code",
   "execution_count": 35,
   "id": "be2a7d47",
   "metadata": {},
   "outputs": [
    {
     "data": {
      "text/plain": [
       "array([-2.86478563,  0.74649916])"
      ]
     },
     "execution_count": 35,
     "metadata": {},
     "output_type": "execute_result"
    }
   ],
   "source": [
    "import numpy as np\n",
    "from numba import njit\n",
    "\n",
    "@njit\n",
    "def sigmoid(z):\n",
    "    return 1 / (1 + np.exp(-z))\n",
    "\n",
    "@njit\n",
    "def numba_rawnewton_logreg(X, y, lam, max_iter=100, tol=1e-6):\n",
    "    n, d = X.shape\n",
    "    w = np.zeros(d)\n",
    "    \n",
    "    for it in range(max_iter):\n",
    "        z = X @ w\n",
    "        p = sigmoid(z)\n",
    "        grad = X.T @ (p - y) + 2 * lam * w\n",
    "        S = p * (1 - p)\n",
    "        H = X.T @ (X * S[:, None]) + 2 * lam * np.eye(d)\n",
    "        delta = np.linalg.solve(H, grad)\n",
    "        w -= delta\n",
    "        if np.linalg.norm(delta) < tol:\n",
    "            break\n",
    "    return w\n",
    "\n",
    "numba_rawnewton_logreg(x, y, 0.1)"
   ]
  },
  {
   "cell_type": "markdown",
   "id": "fd9e3e32",
   "metadata": {},
   "source": [
    "## Scipy Implementation with Conjugated Gradient Newton"
   ]
  },
  {
   "cell_type": "code",
   "execution_count": 36,
   "id": "cf0d388f",
   "metadata": {},
   "outputs": [
    {
     "data": {
      "text/plain": [
       "array([-2.86478563,  0.74649916])"
      ]
     },
     "execution_count": 36,
     "metadata": {},
     "output_type": "execute_result"
    }
   ],
   "source": [
    "from scipy.optimize import minimize\n",
    "\n",
    "def sigmoid(z):\n",
    "    return 1 / (1 + np.exp(-z))\n",
    "\n",
    "def logreg_objective(w, X, y, lam):\n",
    "    z = X @ w\n",
    "    log_likelihood = np.sum(np.log(1 + np.exp(-z)) * y + np.log(1 + np.exp(z)) * (1 - y))\n",
    "    reg = lam * np.dot(w, w)\n",
    "    return log_likelihood + reg\n",
    "\n",
    "def logreg_grad(w, X, y, lam):\n",
    "    z = X @ w\n",
    "    p = sigmoid(z)\n",
    "    grad = X.T @ (p - y) + 2 * lam * w\n",
    "    return grad\n",
    "\n",
    "def logreg_hess(w, X, y, lam):\n",
    "    z = X @ w\n",
    "    p = sigmoid(z)\n",
    "    S = p * (1 - p)\n",
    "    H = X.T @ (X * S[:, None]) + 2 * lam * np.eye(X.shape[1])\n",
    "    return H\n",
    "\n",
    "def scipy_newtoncg_logreg(X, y, lam):\n",
    "    d = X.shape[1]\n",
    "    res = minimize(fun=logreg_objective,\n",
    "                   x0=np.zeros(d),\n",
    "                   args=(X, y, lam),\n",
    "                   method='Newton-CG',\n",
    "                   jac=logreg_grad,\n",
    "                   hess=logreg_hess,\n",
    "                   options={'xtol': 1e-6, 'disp': False})\n",
    "    return res.x\n",
    "\n",
    "scipy_newtoncg_logreg(x, y, 0.1)"
   ]
  },
  {
   "cell_type": "code",
   "execution_count": 37,
   "id": "2a78a7d4",
   "metadata": {},
   "outputs": [
    {
     "name": "stdout",
     "output_type": "stream",
     "text": [
      "264 μs ± 2.61 μs per loop (mean ± std. dev. of 7 runs, 1,000 loops each)\n"
     ]
    }
   ],
   "source": [
    "%timeit scipy_newtoncg_logreg(x, y, 0.1)"
   ]
  },
  {
   "cell_type": "code",
   "execution_count": 38,
   "id": "eb59657a",
   "metadata": {},
   "outputs": [
    {
     "name": "stdout",
     "output_type": "stream",
     "text": [
      "20.8 μs ± 170 ns per loop (mean ± std. dev. of 7 runs, 10,000 loops each)\n"
     ]
    }
   ],
   "source": [
    "%timeit numba_rawnewton_logreg(x, y, 0.1)"
   ]
  },
  {
   "cell_type": "markdown",
   "id": "8f9e6f06",
   "metadata": {},
   "source": [
    "## Medium Size Problem"
   ]
  },
  {
   "cell_type": "code",
   "execution_count": 39,
   "id": "e0a6efbf",
   "metadata": {},
   "outputs": [
    {
     "data": {
      "text/plain": [
       "array([-1.53292105, -1.71197016,  0.04613506, -0.95837448, -0.08081161,\n",
       "       -0.70385904, -0.7707843 , -0.48084534,  0.70358555,  0.92914515])"
      ]
     },
     "execution_count": 39,
     "metadata": {},
     "output_type": "execute_result"
    }
   ],
   "source": [
    "x_med, y_med, beta_med = generate_logreg_data(200, 10)\n",
    "beta_med"
   ]
  },
  {
   "cell_type": "code",
   "execution_count": 40,
   "id": "aa0487e2",
   "metadata": {},
   "outputs": [
    {
     "data": {
      "text/plain": [
       "array([-2.11985398, -1.95074541, -0.06884512, -0.94531301, -0.06184398,\n",
       "       -0.83223477, -0.90754435, -0.48258231,  1.00053492,  0.84389168])"
      ]
     },
     "execution_count": 40,
     "metadata": {},
     "output_type": "execute_result"
    }
   ],
   "source": [
    "numba_rawnewton_logreg(x_med, y_med, 0.01)"
   ]
  },
  {
   "cell_type": "code",
   "execution_count": 41,
   "id": "d9f33b76",
   "metadata": {},
   "outputs": [
    {
     "data": {
      "text/plain": [
       "array([-2.11985398, -1.95074541, -0.06884512, -0.94531301, -0.06184398,\n",
       "       -0.83223477, -0.90754435, -0.48258231,  1.00053492,  0.84389168])"
      ]
     },
     "execution_count": 41,
     "metadata": {},
     "output_type": "execute_result"
    }
   ],
   "source": [
    "scipy_newtoncg_logreg(x_med, y_med, 0.01)"
   ]
  },
  {
   "cell_type": "code",
   "execution_count": 42,
   "id": "1202e5a2",
   "metadata": {},
   "outputs": [
    {
     "name": "stdout",
     "output_type": "stream",
     "text": [
      "608 μs ± 6.16 μs per loop (mean ± std. dev. of 7 runs, 1,000 loops each)\n"
     ]
    }
   ],
   "source": [
    "%timeit scipy_newtoncg_logreg(x_med, y_med, 0.01)"
   ]
  },
  {
   "cell_type": "code",
   "execution_count": 43,
   "id": "f8d7cbd9",
   "metadata": {},
   "outputs": [
    {
     "name": "stdout",
     "output_type": "stream",
     "text": [
      "56.9 μs ± 50.9 ns per loop (mean ± std. dev. of 7 runs, 10,000 loops each)\n"
     ]
    }
   ],
   "source": [
    "%timeit numba_rawnewton_logreg(x_med, y_med, 0.01)"
   ]
  }
 ],
 "metadata": {
  "kernelspec": {
   "display_name": ".venv",
   "language": "python",
   "name": "python3"
  },
  "language_info": {
   "codemirror_mode": {
    "name": "ipython",
    "version": 3
   },
   "file_extension": ".py",
   "mimetype": "text/x-python",
   "name": "python",
   "nbconvert_exporter": "python",
   "pygments_lexer": "ipython3",
   "version": "3.13.3"
  }
 },
 "nbformat": 4,
 "nbformat_minor": 5
}
