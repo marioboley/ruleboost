{
 "cells": [
  {
   "cell_type": "markdown",
   "id": "f2226a7f",
   "metadata": {},
   "source": [
    "# Numba-compatible Optimisation\n",
    "\n",
    "> **Created** by Mario Boley on 2025-06-09\n",
    "\n",
    "In the future we might want to replace `scipy.optimize` by compiled `numba`-code. This could be especially useful for Shahrzad's LLTBoost algorithm."
   ]
  },
  {
   "cell_type": "code",
   "execution_count": null,
   "id": "8d6b919d",
   "metadata": {},
   "outputs": [
    {
     "data": {
      "text/plain": [
       "(array([[ 1.76405235,  0.40015721],\n",
       "        [ 0.97873798,  2.2408932 ],\n",
       "        [ 1.86755799, -0.97727788],\n",
       "        [ 0.95008842, -0.15135721],\n",
       "        [-0.10321885,  0.4105985 ],\n",
       "        [ 0.14404357,  1.45427351],\n",
       "        [ 0.76103773,  0.12167502],\n",
       "        [ 0.44386323,  0.33367433],\n",
       "        [ 1.49407907, -0.20515826],\n",
       "        [ 0.3130677 , -0.85409574]]),\n",
       " array([0., 0., 0., 0., 1., 1., 0., 0., 0., 0.]),\n",
       " array([-2.55298982,  0.6536186 ]))"
      ]
     },
     "execution_count": 2,
     "metadata": {},
     "output_type": "execute_result"
    }
   ],
   "source": [
    "import numpy as np\n",
    "from numba import njit\n",
    "\n",
    "@njit\n",
    "def generate_logreg_data(n, p, seed=0):\n",
    "    np.random.seed(seed)\n",
    "    x = np.random.randn(n, p)\n",
    "    w_true = np.random.randn(p)\n",
    "    logits = x @ w_true\n",
    "    probs = 1 / (1 + np.exp(-logits))\n",
    "    y = np.empty(n)\n",
    "    for i in range(n):\n",
    "        y[i] = 1.0 if np.random.rand() < probs[i] else 0.0\n",
    "    return x, y, w_true\n",
    "\n",
    "x, y, beta = generate_logreg_data(10, 2)\n",
    "x, y, beta"
   ]
  },
  {
   "cell_type": "markdown",
   "id": "521baf11",
   "metadata": {},
   "source": [
    "## Numba Implementation of Raw Newton"
   ]
  },
  {
   "cell_type": "code",
   "execution_count": 3,
   "id": "be2a7d47",
   "metadata": {},
   "outputs": [
    {
     "data": {
      "text/plain": [
       "array([-2.86478563,  0.74649916])"
      ]
     },
     "execution_count": 3,
     "metadata": {},
     "output_type": "execute_result"
    }
   ],
   "source": [
    "import numpy as np\n",
    "from numba import njit\n",
    "\n",
    "@njit\n",
    "def sigmoid(z):\n",
    "    return 1 / (1 + np.exp(-z))\n",
    "\n",
    "@njit\n",
    "def numba_rawnewton_logreg(x, y, lam, max_iter=100, tol=1e-6):\n",
    "    _, d = x.shape\n",
    "    beta = np.zeros(d)\n",
    "    \n",
    "    for _ in range(max_iter):\n",
    "        p = sigmoid(x.dot(beta))\n",
    "        grad = x.T @ (p - y) + 2 * lam * beta\n",
    "        s = p * (1 - p)\n",
    "        h = x.T @ (x * s[:, None]) + 2 * lam * np.eye(d)\n",
    "        delta = np.linalg.solve(h, grad)\n",
    "        beta -= delta\n",
    "        if np.linalg.norm(delta) < tol:\n",
    "            break\n",
    "    return beta\n",
    "\n",
    "numba_rawnewton_logreg(x, y, 0.1)"
   ]
  },
  {
   "cell_type": "code",
   "execution_count": 4,
   "id": "9356ffec",
   "metadata": {},
   "outputs": [
    {
     "data": {
      "text/plain": [
       "array([-2.86478563,  0.74649916])"
      ]
     },
     "execution_count": 4,
     "metadata": {},
     "output_type": "execute_result"
    }
   ],
   "source": [
    "@njit\n",
    "def numba_rawnewton_logreg_loopfused(x, y, lam, max_iter=100, tol=1e-6):\n",
    "    n, d = x.shape\n",
    "    beta = np.zeros(d)\n",
    "    \n",
    "    for _ in range(max_iter):\n",
    "        xb = x @ beta\n",
    "        p = sigmoid(xb)\n",
    "        grad = x.T @ (p - y) + 2 * lam * beta\n",
    "\n",
    "        s = p * (1 - p)\n",
    "\n",
    "        # Loop-fused weighted Gramian computation\n",
    "        h = np.zeros((d, d))\n",
    "        for i in range(n):\n",
    "            si = s[i]\n",
    "            for j in range(d):\n",
    "                xij = x[i, j]\n",
    "                for k in range(j + 1):\n",
    "                    xik = x[i, k]\n",
    "                    h[j, k] += si * xij * xik\n",
    "        for j in range(d):\n",
    "            for k in range(j):\n",
    "                h[k, j] = h[j, k]\n",
    "            h[j, j] += 2 * lam  # Regularization\n",
    "\n",
    "        delta = np.linalg.solve(h, grad)\n",
    "        beta -= delta\n",
    "        if np.linalg.norm(delta) < tol:\n",
    "            break\n",
    "    return beta\n",
    "\n",
    "numba_rawnewton_logreg_loopfused(x, y, 0.1)"
   ]
  },
  {
   "cell_type": "markdown",
   "id": "fd9e3e32",
   "metadata": {},
   "source": [
    "## Scipy Implementation with Conjugated Gradient Newton"
   ]
  },
  {
   "cell_type": "code",
   "execution_count": 5,
   "id": "cf0d388f",
   "metadata": {},
   "outputs": [
    {
     "data": {
      "text/plain": [
       "array([-2.86478563,  0.74649916])"
      ]
     },
     "execution_count": 5,
     "metadata": {},
     "output_type": "execute_result"
    }
   ],
   "source": [
    "from scipy.optimize import minimize\n",
    "\n",
    "def sigmoid(z):\n",
    "    return 1 / (1 + np.exp(-z))\n",
    "\n",
    "def logreg_objective(w, X, y, lam):\n",
    "    z = X @ w\n",
    "    log_likelihood = np.sum(np.log(1 + np.exp(-z)) * y + np.log(1 + np.exp(z)) * (1 - y))\n",
    "    reg = lam * np.dot(w, w)\n",
    "    return log_likelihood + reg\n",
    "\n",
    "def logreg_grad(w, X, y, lam):\n",
    "    z = X @ w\n",
    "    p = sigmoid(z)\n",
    "    grad = X.T @ (p - y) + 2 * lam * w\n",
    "    return grad\n",
    "\n",
    "def logreg_hess(w, X, y, lam):\n",
    "    z = X @ w\n",
    "    p = sigmoid(z)\n",
    "    S = p * (1 - p)\n",
    "    H = X.T @ (X * S[:, None]) + 2 * lam * np.eye(X.shape[1])\n",
    "    return H\n",
    "\n",
    "def scipy_newtoncg_logreg(X, y, lam):\n",
    "    d = X.shape[1]\n",
    "    res = minimize(fun=logreg_objective,\n",
    "                   x0=np.zeros(d),\n",
    "                   args=(X, y, lam),\n",
    "                   method='Newton-CG',\n",
    "                   jac=logreg_grad,\n",
    "                   hess=logreg_hess,\n",
    "                   options={'xtol': 1e-6, 'disp': False})\n",
    "    return res.x\n",
    "\n",
    "scipy_newtoncg_logreg(x, y, 0.1)"
   ]
  },
  {
   "cell_type": "code",
   "execution_count": 6,
   "id": "2a78a7d4",
   "metadata": {},
   "outputs": [
    {
     "name": "stdout",
     "output_type": "stream",
     "text": [
      "276 μs ± 6.03 μs per loop (mean ± std. dev. of 7 runs, 1,000 loops each)\n"
     ]
    }
   ],
   "source": [
    "%timeit scipy_newtoncg_logreg(x, y, 0.1)"
   ]
  },
  {
   "cell_type": "code",
   "execution_count": 7,
   "id": "eb59657a",
   "metadata": {},
   "outputs": [
    {
     "name": "stdout",
     "output_type": "stream",
     "text": [
      "21.6 μs ± 309 ns per loop (mean ± std. dev. of 7 runs, 10,000 loops each)\n"
     ]
    }
   ],
   "source": [
    "%timeit numba_rawnewton_logreg(x, y, 0.1)"
   ]
  },
  {
   "cell_type": "code",
   "execution_count": 8,
   "id": "f79061b1",
   "metadata": {},
   "outputs": [
    {
     "name": "stdout",
     "output_type": "stream",
     "text": [
      "20.5 μs ± 258 ns per loop (mean ± std. dev. of 7 runs, 10,000 loops each)\n"
     ]
    }
   ],
   "source": [
    "%timeit numba_rawnewton_logreg_loopfused(x, y, 0.1)"
   ]
  },
  {
   "cell_type": "markdown",
   "id": "8f9e6f06",
   "metadata": {},
   "source": [
    "## Medium Size Problem"
   ]
  },
  {
   "cell_type": "code",
   "execution_count": 9,
   "id": "e0a6efbf",
   "metadata": {},
   "outputs": [
    {
     "data": {
      "text/plain": [
       "array([-1.53292105, -1.71197016,  0.04613506, -0.95837448, -0.08081161,\n",
       "       -0.70385904, -0.7707843 , -0.48084534,  0.70358555,  0.92914515])"
      ]
     },
     "execution_count": 9,
     "metadata": {},
     "output_type": "execute_result"
    }
   ],
   "source": [
    "x_med, y_med, beta_med = generate_logreg_data(200, 10)\n",
    "beta_med"
   ]
  },
  {
   "cell_type": "code",
   "execution_count": 10,
   "id": "aa0487e2",
   "metadata": {},
   "outputs": [
    {
     "data": {
      "text/plain": [
       "array([-2.11985398, -1.95074541, -0.06884512, -0.94531301, -0.06184398,\n",
       "       -0.83223477, -0.90754435, -0.48258231,  1.00053492,  0.84389168])"
      ]
     },
     "execution_count": 10,
     "metadata": {},
     "output_type": "execute_result"
    }
   ],
   "source": [
    "numba_rawnewton_logreg(x_med, y_med, 0.01)"
   ]
  },
  {
   "cell_type": "code",
   "execution_count": 11,
   "id": "d9f33b76",
   "metadata": {},
   "outputs": [
    {
     "data": {
      "text/plain": [
       "array([-2.11985398, -1.95074541, -0.06884512, -0.94531301, -0.06184398,\n",
       "       -0.83223477, -0.90754435, -0.48258231,  1.00053492,  0.84389168])"
      ]
     },
     "execution_count": 11,
     "metadata": {},
     "output_type": "execute_result"
    }
   ],
   "source": [
    "scipy_newtoncg_logreg(x_med, y_med, 0.01)"
   ]
  },
  {
   "cell_type": "code",
   "execution_count": 12,
   "id": "b01509ee",
   "metadata": {},
   "outputs": [
    {
     "data": {
      "text/plain": [
       "array([-2.11985398, -1.95074541, -0.06884512, -0.94531301, -0.06184398,\n",
       "       -0.83223477, -0.90754435, -0.48258231,  1.00053492,  0.84389168])"
      ]
     },
     "execution_count": 12,
     "metadata": {},
     "output_type": "execute_result"
    }
   ],
   "source": [
    "numba_rawnewton_logreg_loopfused(x_med, y_med, 0.01)"
   ]
  },
  {
   "cell_type": "code",
   "execution_count": 13,
   "id": "1202e5a2",
   "metadata": {},
   "outputs": [
    {
     "name": "stdout",
     "output_type": "stream",
     "text": [
      "611 μs ± 8.17 μs per loop (mean ± std. dev. of 7 runs, 1,000 loops each)\n"
     ]
    }
   ],
   "source": [
    "%timeit scipy_newtoncg_logreg(x_med, y_med, 0.01)"
   ]
  },
  {
   "cell_type": "code",
   "execution_count": 14,
   "id": "f8d7cbd9",
   "metadata": {},
   "outputs": [
    {
     "name": "stdout",
     "output_type": "stream",
     "text": [
      "57.1 μs ± 213 ns per loop (mean ± std. dev. of 7 runs, 10,000 loops each)\n"
     ]
    }
   ],
   "source": [
    "%timeit numba_rawnewton_logreg(x_med, y_med, 0.01)"
   ]
  },
  {
   "cell_type": "code",
   "execution_count": 15,
   "id": "f53e84bd",
   "metadata": {},
   "outputs": [
    {
     "name": "stdout",
     "output_type": "stream",
     "text": [
      "51.6 μs ± 179 ns per loop (mean ± std. dev. of 7 runs, 10,000 loops each)\n"
     ]
    }
   ],
   "source": [
    "%timeit numba_rawnewton_logreg_loopfused(x_med, y_med, 0.01)"
   ]
  },
  {
   "cell_type": "code",
   "execution_count": 29,
   "id": "0f5bef82",
   "metadata": {},
   "outputs": [
    {
     "data": {
      "text/plain": [
       "array([ 0.0395099 ,  0.33837761, -0.84218319, -0.04963228, -1.23024536,\n",
       "       -0.98879267,  0.60207459, -0.1595486 , -1.28334796, -1.23822008,\n",
       "        0.7172287 , -0.48890867,  1.6726215 ,  0.54363772,  0.44157299,\n",
       "       -0.3919033 , -1.31489467,  0.55313608,  0.20199444,  2.03256366,\n",
       "       -1.05225342, -1.3299612 ,  1.38865101, -0.24899491, -0.5529632 ,\n",
       "        0.4356544 ,  0.50993161,  1.8285584 ,  0.60777267,  0.62245265,\n",
       "        1.21324199,  0.39491096, -1.77359641,  0.04892789, -1.57725036,\n",
       "       -0.71665916,  0.15661669, -0.00540036,  1.35534798, -1.4107126 ,\n",
       "       -0.48702981, -1.08426052, -1.16806619, -0.66418541, -1.86610036,\n",
       "       -1.34430408,  0.44725004,  0.07811359, -0.76761874,  0.64854971,\n",
       "        1.35362042,  1.41406129,  1.80486759, -1.69093891, -0.15198415,\n",
       "       -1.64778682, -0.24812456, -0.52488949, -0.90949058,  1.14413438,\n",
       "       -1.1993784 , -0.10774471, -0.72829357, -0.1086098 ,  0.44094439,\n",
       "       -0.45808654,  0.96875567, -1.40368748,  1.44444663, -0.10660426,\n",
       "       -0.86336334,  0.1314764 , -1.11641315,  0.16499799,  0.5849524 ,\n",
       "        0.14253623,  0.3611004 , -1.6503759 , -0.89499978,  0.62877057,\n",
       "        0.63571805,  2.06126213,  1.03819732,  1.04411019, -0.38993074,\n",
       "       -1.44384286,  0.10302   , -1.43309149,  0.26275784, -0.11418818,\n",
       "       -0.44733548,  2.63081369,  0.87660034, -1.68874447,  0.46379994,\n",
       "        0.80954437,  0.02265788, -0.91892508,  0.86914033, -1.38173651])"
      ]
     },
     "execution_count": 29,
     "metadata": {},
     "output_type": "execute_result"
    }
   ],
   "source": [
    "x_large, y_large, beta_large = generate_logreg_data(2000, 100)\n",
    "beta_large"
   ]
  },
  {
   "cell_type": "code",
   "execution_count": 31,
   "id": "ec577596",
   "metadata": {},
   "outputs": [
    {
     "name": "stdout",
     "output_type": "stream",
     "text": [
      "0.12124282326377242\n",
      "0.12124283497888044\n",
      "0.12124283497888026\n"
     ]
    }
   ],
   "source": [
    "print(np.mean((beta_large-scipy_newtoncg_logreg(x_large, y_large, 0.001))**2))\n",
    "print(np.mean((beta_large-numba_rawnewton_logreg(x_large, y_large, 0.001))**2))\n",
    "print(np.mean((beta_large-numba_rawnewton_logreg_loopfused(x_large, y_large, 0.001))**2))"
   ]
  },
  {
   "cell_type": "code",
   "execution_count": 32,
   "id": "36138a69",
   "metadata": {},
   "outputs": [
    {
     "name": "stdout",
     "output_type": "stream",
     "text": [
      "8.79 ms ± 447 μs per loop (mean ± std. dev. of 7 runs, 100 loops each)\n"
     ]
    }
   ],
   "source": [
    "%timeit scipy_newtoncg_logreg(x_large, y_large, 0.001)"
   ]
  },
  {
   "cell_type": "code",
   "execution_count": 33,
   "id": "a0a1e31c",
   "metadata": {},
   "outputs": [
    {
     "name": "stdout",
     "output_type": "stream",
     "text": [
      "5.15 ms ± 20.5 μs per loop (mean ± std. dev. of 7 runs, 100 loops each)\n"
     ]
    }
   ],
   "source": [
    "%timeit numba_rawnewton_logreg(x_large, y_large, 0.001)"
   ]
  },
  {
   "cell_type": "code",
   "execution_count": 34,
   "id": "4c450e59",
   "metadata": {},
   "outputs": [
    {
     "name": "stdout",
     "output_type": "stream",
     "text": [
      "13.7 ms ± 346 μs per loop (mean ± std. dev. of 7 runs, 100 loops each)\n"
     ]
    }
   ],
   "source": [
    "%timeit numba_rawnewton_logreg_loopfused(x_large, y_large, 0.001)"
   ]
  }
 ],
 "metadata": {
  "kernelspec": {
   "display_name": ".venv",
   "language": "python",
   "name": "python3"
  },
  "language_info": {
   "codemirror_mode": {
    "name": "ipython",
    "version": 3
   },
   "file_extension": ".py",
   "mimetype": "text/x-python",
   "name": "python",
   "nbconvert_exporter": "python",
   "pygments_lexer": "ipython3",
   "version": "3.13.3"
  }
 },
 "nbformat": 4,
 "nbformat_minor": 5
}
